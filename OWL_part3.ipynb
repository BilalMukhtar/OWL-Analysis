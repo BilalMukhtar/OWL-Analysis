{
 "cells": [
  {
   "cell_type": "markdown",
   "id": "33c2a6af-a492-41cb-a991-37bee4182fd6",
   "metadata": {},
   "source": [
    "# Using The Statistic"
   ]
  },
  {
   "cell_type": "code",
   "execution_count": 2,
   "id": "ae379c5f-7fe6-4d59-95d2-a97a823d20ce",
   "metadata": {
    "tags": []
   },
   "outputs": [],
   "source": [
    "# Data\n",
    "import pandas as pd\n",
    "import numpy as np\n",
    "import matplotlib.pyplot as plt\n",
    "\n",
    "pd.set_option('display.max_columns', None)\n",
    "pd.options.mode.chained_assignment = None\n",
    "\n",
    "stat_df = pd.read_csv('new csv files/stat_df.csv')\n",
    "maps = pd.read_csv('original csv files/match_map_stats_000000000000.csv')\n",
    "\n",
    "maps = maps.rename(columns={\"match_winner\": \"match_winner_team\", \"map_winner\": \"map_winner_team\"})"
   ]
  },
  {
   "cell_type": "code",
   "execution_count": 3,
   "id": "e74c63d3-b8d9-4551-970e-400558bfca08",
   "metadata": {
    "tags": []
   },
   "outputs": [],
   "source": [
    "stat_df = pd.merge(stat_df, maps, on=['match_id', 'map_name'])\n",
    "stat_df = stat_df.drop_duplicates(subset=['match_id', 'map_name', 'player', 'Eliminations'])\n",
    "\n",
    "vals = stat_df.stage.unique().tolist()\n",
    "playoffs = []\n",
    "for i in vals:\n",
    "    valid = ['Title', 'Playoffs', 'Championship', 'Postseason', 'Summer', 'Countdown', 'May', 'June']\n",
    "    for j in valid:\n",
    "        if j in i and not('Knockouts' in i or 'Qualifiers' in i):\n",
    "            playoffs.append(i)"
   ]
  },
  {
   "cell_type": "code",
   "execution_count": 4,
   "id": "3641bfe2-4c7d-4246-a906-f3a87278f3a8",
   "metadata": {},
   "outputs": [
    {
     "ename": "KeyError",
     "evalue": "'hero_Winston'",
     "output_type": "error",
     "traceback": [
      "\u001b[1;31m---------------------------------------------------------------------------\u001b[0m",
      "\u001b[1;31mKeyError\u001b[0m                                  Traceback (most recent call last)",
      "File \u001b[1;32m~\\AppData\\Local\\Programs\\Python\\Python310\\lib\\site-packages\\pandas\\core\\indexes\\base.py:3802\u001b[0m, in \u001b[0;36mIndex.get_loc\u001b[1;34m(self, key, method, tolerance)\u001b[0m\n\u001b[0;32m   3801\u001b[0m \u001b[38;5;28;01mtry\u001b[39;00m:\n\u001b[1;32m-> 3802\u001b[0m     \u001b[38;5;28;01mreturn\u001b[39;00m \u001b[38;5;28;43mself\u001b[39;49m\u001b[38;5;241;43m.\u001b[39;49m\u001b[43m_engine\u001b[49m\u001b[38;5;241;43m.\u001b[39;49m\u001b[43mget_loc\u001b[49m\u001b[43m(\u001b[49m\u001b[43mcasted_key\u001b[49m\u001b[43m)\u001b[49m\n\u001b[0;32m   3803\u001b[0m \u001b[38;5;28;01mexcept\u001b[39;00m \u001b[38;5;167;01mKeyError\u001b[39;00m \u001b[38;5;28;01mas\u001b[39;00m err:\n",
      "File \u001b[1;32m~\\AppData\\Local\\Programs\\Python\\Python310\\lib\\site-packages\\pandas\\_libs\\index.pyx:138\u001b[0m, in \u001b[0;36mpandas._libs.index.IndexEngine.get_loc\u001b[1;34m()\u001b[0m\n",
      "File \u001b[1;32m~\\AppData\\Local\\Programs\\Python\\Python310\\lib\\site-packages\\pandas\\_libs\\index.pyx:165\u001b[0m, in \u001b[0;36mpandas._libs.index.IndexEngine.get_loc\u001b[1;34m()\u001b[0m\n",
      "File \u001b[1;32mpandas\\_libs\\hashtable_class_helper.pxi:5745\u001b[0m, in \u001b[0;36mpandas._libs.hashtable.PyObjectHashTable.get_item\u001b[1;34m()\u001b[0m\n",
      "File \u001b[1;32mpandas\\_libs\\hashtable_class_helper.pxi:5753\u001b[0m, in \u001b[0;36mpandas._libs.hashtable.PyObjectHashTable.get_item\u001b[1;34m()\u001b[0m\n",
      "\u001b[1;31mKeyError\u001b[0m: 'hero_Winston'",
      "\nThe above exception was the direct cause of the following exception:\n",
      "\u001b[1;31mKeyError\u001b[0m                                  Traceback (most recent call last)",
      "Cell \u001b[1;32mIn[4], line 3\u001b[0m\n\u001b[0;32m      1\u001b[0m \u001b[38;5;28;01mimport\u001b[39;00m \u001b[38;5;21;01mplotly\u001b[39;00m\u001b[38;5;21;01m.\u001b[39;00m\u001b[38;5;21;01mexpress\u001b[39;00m \u001b[38;5;28;01mas\u001b[39;00m \u001b[38;5;21;01mpx\u001b[39;00m\n\u001b[1;32m----> 3\u001b[0m winston_summary \u001b[38;5;241m=\u001b[39m stat_df[\u001b[43mstat_df\u001b[49m\u001b[43m[\u001b[49m\u001b[38;5;124;43m'\u001b[39;49m\u001b[38;5;124;43mhero_Winston\u001b[39;49m\u001b[38;5;124;43m'\u001b[39;49m\u001b[43m]\u001b[49m \u001b[38;5;241m==\u001b[39m \u001b[38;5;241m1\u001b[39m]\u001b[38;5;241m.\u001b[39mgroupby([\u001b[38;5;124m'\u001b[39m\u001b[38;5;124mstage\u001b[39m\u001b[38;5;124m'\u001b[39m, \u001b[38;5;124m'\u001b[39m\u001b[38;5;124mplayer\u001b[39m\u001b[38;5;124m'\u001b[39m])[\u001b[38;5;124m'\u001b[39m\u001b[38;5;124mStat\u001b[39m\u001b[38;5;124m'\u001b[39m]\u001b[38;5;241m.\u001b[39mdescribe()[[\u001b[38;5;124m'\u001b[39m\u001b[38;5;124mcount\u001b[39m\u001b[38;5;124m'\u001b[39m, \u001b[38;5;124m'\u001b[39m\u001b[38;5;124mmean\u001b[39m\u001b[38;5;124m'\u001b[39m]]\u001b[38;5;241m.\u001b[39mreset_index()\n\u001b[0;32m      4\u001b[0m \u001b[38;5;66;03m#winston = winston[winston['count'] > 0].sort_values(by='mean')\u001b[39;00m\n\u001b[0;32m      5\u001b[0m winston \u001b[38;5;241m=\u001b[39m stat_df[(stat_df[\u001b[38;5;124m'\u001b[39m\u001b[38;5;124mhero_Winston\u001b[39m\u001b[38;5;124m'\u001b[39m] \u001b[38;5;241m==\u001b[39m \u001b[38;5;241m1\u001b[39m)]\n",
      "File \u001b[1;32m~\\AppData\\Local\\Programs\\Python\\Python310\\lib\\site-packages\\pandas\\core\\frame.py:3807\u001b[0m, in \u001b[0;36mDataFrame.__getitem__\u001b[1;34m(self, key)\u001b[0m\n\u001b[0;32m   3805\u001b[0m \u001b[38;5;28;01mif\u001b[39;00m \u001b[38;5;28mself\u001b[39m\u001b[38;5;241m.\u001b[39mcolumns\u001b[38;5;241m.\u001b[39mnlevels \u001b[38;5;241m>\u001b[39m \u001b[38;5;241m1\u001b[39m:\n\u001b[0;32m   3806\u001b[0m     \u001b[38;5;28;01mreturn\u001b[39;00m \u001b[38;5;28mself\u001b[39m\u001b[38;5;241m.\u001b[39m_getitem_multilevel(key)\n\u001b[1;32m-> 3807\u001b[0m indexer \u001b[38;5;241m=\u001b[39m \u001b[38;5;28;43mself\u001b[39;49m\u001b[38;5;241;43m.\u001b[39;49m\u001b[43mcolumns\u001b[49m\u001b[38;5;241;43m.\u001b[39;49m\u001b[43mget_loc\u001b[49m\u001b[43m(\u001b[49m\u001b[43mkey\u001b[49m\u001b[43m)\u001b[49m\n\u001b[0;32m   3808\u001b[0m \u001b[38;5;28;01mif\u001b[39;00m is_integer(indexer):\n\u001b[0;32m   3809\u001b[0m     indexer \u001b[38;5;241m=\u001b[39m [indexer]\n",
      "File \u001b[1;32m~\\AppData\\Local\\Programs\\Python\\Python310\\lib\\site-packages\\pandas\\core\\indexes\\base.py:3804\u001b[0m, in \u001b[0;36mIndex.get_loc\u001b[1;34m(self, key, method, tolerance)\u001b[0m\n\u001b[0;32m   3802\u001b[0m     \u001b[38;5;28;01mreturn\u001b[39;00m \u001b[38;5;28mself\u001b[39m\u001b[38;5;241m.\u001b[39m_engine\u001b[38;5;241m.\u001b[39mget_loc(casted_key)\n\u001b[0;32m   3803\u001b[0m \u001b[38;5;28;01mexcept\u001b[39;00m \u001b[38;5;167;01mKeyError\u001b[39;00m \u001b[38;5;28;01mas\u001b[39;00m err:\n\u001b[1;32m-> 3804\u001b[0m     \u001b[38;5;28;01mraise\u001b[39;00m \u001b[38;5;167;01mKeyError\u001b[39;00m(key) \u001b[38;5;28;01mfrom\u001b[39;00m \u001b[38;5;21;01merr\u001b[39;00m\n\u001b[0;32m   3805\u001b[0m \u001b[38;5;28;01mexcept\u001b[39;00m \u001b[38;5;167;01mTypeError\u001b[39;00m:\n\u001b[0;32m   3806\u001b[0m     \u001b[38;5;66;03m# If we have a listlike key, _check_indexing_error will raise\u001b[39;00m\n\u001b[0;32m   3807\u001b[0m     \u001b[38;5;66;03m#  InvalidIndexError. Otherwise we fall through and re-raise\u001b[39;00m\n\u001b[0;32m   3808\u001b[0m     \u001b[38;5;66;03m#  the TypeError.\u001b[39;00m\n\u001b[0;32m   3809\u001b[0m     \u001b[38;5;28mself\u001b[39m\u001b[38;5;241m.\u001b[39m_check_indexing_error(key)\n",
      "\u001b[1;31mKeyError\u001b[0m: 'hero_Winston'"
     ]
    }
   ],
   "source": [
    "import plotly.express as px\n",
    "\n",
    "winston_summary = stat_df[stat_df['hero_Winston'] == 1].groupby(['stage', 'player'])['Stat'].describe()[['count', 'mean']].reset_index()\n",
    "#winston = winston[winston['count'] > 0].sort_values(by='mean')\n",
    "winston = stat_df[(stat_df['hero_Winston'] == 1)]\n",
    "winston = pd.merge(winston, winston_summary, on='player')\n",
    "winston = winston[winston['count'] > 40]\n",
    "\n",
    "fig = px.bar(winston, x=winston.player, y=winston['mean'], color=winston['stage_x'])\n",
    "fig.show()\n",
    "winston"
   ]
  },
  {
   "cell_type": "code",
   "execution_count": 159,
   "id": "783912cc-5320-4d8c-8453-668cf0794b2c",
   "metadata": {
    "tags": []
   },
   "outputs": [
    {
     "data": {
      "application/vnd.plotly.v1+json": {
       "config": {
        "plotlyServerURL": "https://plot.ly"
       },
       "data": [
        {
         "hovertemplate": "player=Xushu<br>count=%{x}<br>mean=%{y}<extra></extra>",
         "legendgroup": "Xushu",
         "marker": {
          "color": "#636efa",
          "symbol": "circle"
         },
         "mode": "markers",
         "name": "Xushu",
         "orientation": "v",
         "showlegend": true,
         "type": "scatter",
         "x": [
          5
         ],
         "xaxis": "x",
         "y": [
          84.11387972870085
         ],
         "yaxis": "y"
        },
        {
         "hovertemplate": "player=CHECKMATE<br>count=%{x}<br>mean=%{y}<extra></extra>",
         "legendgroup": "CHECKMATE",
         "marker": {
          "color": "#EF553B",
          "symbol": "circle"
         },
         "mode": "markers",
         "name": "CHECKMATE",
         "orientation": "v",
         "showlegend": true,
         "type": "scatter",
         "x": [
          2
         ],
         "xaxis": "x",
         "y": [
          84.3644603009548
         ],
         "yaxis": "y"
        },
        {
         "hovertemplate": "player=axxiom<br>count=%{x}<br>mean=%{y}<extra></extra>",
         "legendgroup": "axxiom",
         "marker": {
          "color": "#00cc96",
          "symbol": "circle"
         },
         "mode": "markers",
         "name": "axxiom",
         "orientation": "v",
         "showlegend": true,
         "type": "scatter",
         "x": [
          2
         ],
         "xaxis": "x",
         "y": [
          86.70337792814769
         ],
         "yaxis": "y"
        },
        {
         "hovertemplate": "player=Silver3<br>count=%{x}<br>mean=%{y}<extra></extra>",
         "legendgroup": "Silver3",
         "marker": {
          "color": "#ab63fa",
          "symbol": "circle"
         },
         "mode": "markers",
         "name": "Silver3",
         "orientation": "v",
         "showlegend": true,
         "type": "scatter",
         "x": [
          23
         ],
         "xaxis": "x",
         "y": [
          88.2627061159042
         ],
         "yaxis": "y"
        },
        {
         "hovertemplate": "player=Numlocked<br>count=%{x}<br>mean=%{y}<extra></extra>",
         "legendgroup": "Numlocked",
         "marker": {
          "color": "#FFA15A",
          "symbol": "circle"
         },
         "mode": "markers",
         "name": "Numlocked",
         "orientation": "v",
         "showlegend": true,
         "type": "scatter",
         "x": [
          1
         ],
         "xaxis": "x",
         "y": [
          88.5928187955756
         ],
         "yaxis": "y"
        },
        {
         "hovertemplate": "player=ChangSik<br>count=%{x}<br>mean=%{y}<extra></extra>",
         "legendgroup": "ChangSik",
         "marker": {
          "color": "#19d3f3",
          "symbol": "circle"
         },
         "mode": "markers",
         "name": "ChangSik",
         "orientation": "v",
         "showlegend": true,
         "type": "scatter",
         "x": [
          17
         ],
         "xaxis": "x",
         "y": [
          88.92450280563835
         ],
         "yaxis": "y"
        },
        {
         "hovertemplate": "player=Trill<br>count=%{x}<br>mean=%{y}<extra></extra>",
         "legendgroup": "Trill",
         "marker": {
          "color": "#FF6692",
          "symbol": "circle"
         },
         "mode": "markers",
         "name": "Trill",
         "orientation": "v",
         "showlegend": true,
         "type": "scatter",
         "x": [
          6
         ],
         "xaxis": "x",
         "y": [
          89.05582511214595
         ],
         "yaxis": "y"
        },
        {
         "hovertemplate": "player=Roshan<br>count=%{x}<br>mean=%{y}<extra></extra>",
         "legendgroup": "Roshan",
         "marker": {
          "color": "#B6E880",
          "symbol": "circle"
         },
         "mode": "markers",
         "name": "Roshan",
         "orientation": "v",
         "showlegend": true,
         "type": "scatter",
         "x": [
          61
         ],
         "xaxis": "x",
         "y": [
          89.14530705834599
         ],
         "yaxis": "y"
        },
        {
         "hovertemplate": "player=SNT<br>count=%{x}<br>mean=%{y}<extra></extra>",
         "legendgroup": "SNT",
         "marker": {
          "color": "#FF97FF",
          "symbol": "circle"
         },
         "mode": "markers",
         "name": "SNT",
         "orientation": "v",
         "showlegend": true,
         "type": "scatter",
         "x": [
          58
         ],
         "xaxis": "x",
         "y": [
          93.39213797686548
         ],
         "yaxis": "y"
        },
        {
         "hovertemplate": "player=Jmac<br>count=%{x}<br>mean=%{y}<extra></extra>",
         "legendgroup": "Jmac",
         "marker": {
          "color": "#FECB52",
          "symbol": "circle"
         },
         "mode": "markers",
         "name": "Jmac",
         "orientation": "v",
         "showlegend": true,
         "type": "scatter",
         "x": [
          25
         ],
         "xaxis": "x",
         "y": [
          94.08824131442117
         ],
         "yaxis": "y"
        },
        {
         "hovertemplate": "player=cocco<br>count=%{x}<br>mean=%{y}<extra></extra>",
         "legendgroup": "cocco",
         "marker": {
          "color": "#636efa",
          "symbol": "circle"
         },
         "mode": "markers",
         "name": "cocco",
         "orientation": "v",
         "showlegend": true,
         "type": "scatter",
         "x": [
          20
         ],
         "xaxis": "x",
         "y": [
          94.91570560134429
         ],
         "yaxis": "y"
        },
        {
         "hovertemplate": "player=ShRedLock<br>count=%{x}<br>mean=%{y}<extra></extra>",
         "legendgroup": "ShRedLock",
         "marker": {
          "color": "#EF553B",
          "symbol": "circle"
         },
         "mode": "markers",
         "name": "ShRedLock",
         "orientation": "v",
         "showlegend": true,
         "type": "scatter",
         "x": [
          36
         ],
         "xaxis": "x",
         "y": [
          95.1000990899373
         ],
         "yaxis": "y"
        },
        {
         "hovertemplate": "player=numlocked<br>count=%{x}<br>mean=%{y}<extra></extra>",
         "legendgroup": "numlocked",
         "marker": {
          "color": "#00cc96",
          "symbol": "circle"
         },
         "mode": "markers",
         "name": "numlocked",
         "orientation": "v",
         "showlegend": true,
         "type": "scatter",
         "x": [
          12
         ],
         "xaxis": "x",
         "y": [
          95.1415849799612
         ],
         "yaxis": "y"
        },
        {
         "hovertemplate": "player=ameng<br>count=%{x}<br>mean=%{y}<extra></extra>",
         "legendgroup": "ameng",
         "marker": {
          "color": "#ab63fa",
          "symbol": "circle"
         },
         "mode": "markers",
         "name": "ameng",
         "orientation": "v",
         "showlegend": true,
         "type": "scatter",
         "x": [
          20
         ],
         "xaxis": "x",
         "y": [
          95.69868461624203
         ],
         "yaxis": "y"
        },
        {
         "hovertemplate": "player=FCTFCTN<br>count=%{x}<br>mean=%{y}<extra></extra>",
         "legendgroup": "FCTFCTN",
         "marker": {
          "color": "#FFA15A",
          "symbol": "circle"
         },
         "mode": "markers",
         "name": "FCTFCTN",
         "orientation": "v",
         "showlegend": true,
         "type": "scatter",
         "x": [
          11
         ],
         "xaxis": "x",
         "y": [
          95.94543426228593
         ],
         "yaxis": "y"
        },
        {
         "hovertemplate": "player=CWoosH<br>count=%{x}<br>mean=%{y}<extra></extra>",
         "legendgroup": "CWoosH",
         "marker": {
          "color": "#19d3f3",
          "symbol": "circle"
         },
         "mode": "markers",
         "name": "CWoosH",
         "orientation": "v",
         "showlegend": true,
         "type": "scatter",
         "x": [
          93
         ],
         "xaxis": "x",
         "y": [
          96.3024457116339
         ],
         "yaxis": "y"
        },
        {
         "hovertemplate": "player=Fusions<br>count=%{x}<br>mean=%{y}<extra></extra>",
         "legendgroup": "Fusions",
         "marker": {
          "color": "#FF6692",
          "symbol": "circle"
         },
         "mode": "markers",
         "name": "Fusions",
         "orientation": "v",
         "showlegend": true,
         "type": "scatter",
         "x": [
          38
         ],
         "xaxis": "x",
         "y": [
          96.38723276811713
         ],
         "yaxis": "y"
        },
        {
         "hovertemplate": "player=Hadi<br>count=%{x}<br>mean=%{y}<extra></extra>",
         "legendgroup": "Hadi",
         "marker": {
          "color": "#B6E880",
          "symbol": "circle"
         },
         "mode": "markers",
         "name": "Hadi",
         "orientation": "v",
         "showlegend": true,
         "type": "scatter",
         "x": [
          13
         ],
         "xaxis": "x",
         "y": [
          96.48465990435237
         ],
         "yaxis": "y"
        },
        {
         "hovertemplate": "player=Taimou<br>count=%{x}<br>mean=%{y}<extra></extra>",
         "legendgroup": "Taimou",
         "marker": {
          "color": "#FF97FF",
          "symbol": "circle"
         },
         "mode": "markers",
         "name": "Taimou",
         "orientation": "v",
         "showlegend": true,
         "type": "scatter",
         "x": [
          17
         ],
         "xaxis": "x",
         "y": [
          96.5862002194802
         ],
         "yaxis": "y"
        },
        {
         "hovertemplate": "player=Mickie<br>count=%{x}<br>mean=%{y}<extra></extra>",
         "legendgroup": "Mickie",
         "marker": {
          "color": "#FECB52",
          "symbol": "circle"
         },
         "mode": "markers",
         "name": "Mickie",
         "orientation": "v",
         "showlegend": true,
         "type": "scatter",
         "x": [
          14
         ],
         "xaxis": "x",
         "y": [
          96.92051862898798
         ],
         "yaxis": "y"
        },
        {
         "hovertemplate": "player=Daan<br>count=%{x}<br>mean=%{y}<extra></extra>",
         "legendgroup": "Daan",
         "marker": {
          "color": "#636efa",
          "symbol": "circle"
         },
         "mode": "markers",
         "name": "Daan",
         "orientation": "v",
         "showlegend": true,
         "type": "scatter",
         "x": [
          15
         ],
         "xaxis": "x",
         "y": [
          97.23226880604884
         ],
         "yaxis": "y"
        },
        {
         "hovertemplate": "player=xQc<br>count=%{x}<br>mean=%{y}<extra></extra>",
         "legendgroup": "xQc",
         "marker": {
          "color": "#EF553B",
          "symbol": "circle"
         },
         "mode": "markers",
         "name": "xQc",
         "orientation": "v",
         "showlegend": true,
         "type": "scatter",
         "x": [
          19
         ],
         "xaxis": "x",
         "y": [
          97.64829509960543
         ],
         "yaxis": "y"
        },
        {
         "hovertemplate": "player=BenBest<br>count=%{x}<br>mean=%{y}<extra></extra>",
         "legendgroup": "BenBest",
         "marker": {
          "color": "#00cc96",
          "symbol": "circle"
         },
         "mode": "markers",
         "name": "BenBest",
         "orientation": "v",
         "showlegend": true,
         "type": "scatter",
         "x": [
          16
         ],
         "xaxis": "x",
         "y": [
          97.66945053501942
         ],
         "yaxis": "y"
        },
        {
         "hovertemplate": "player=ryujehong<br>count=%{x}<br>mean=%{y}<extra></extra>",
         "legendgroup": "ryujehong",
         "marker": {
          "color": "#ab63fa",
          "symbol": "circle"
         },
         "mode": "markers",
         "name": "ryujehong",
         "orientation": "v",
         "showlegend": true,
         "type": "scatter",
         "x": [
          16
         ],
         "xaxis": "x",
         "y": [
          97.72513621750434
         ],
         "yaxis": "y"
        },
        {
         "hovertemplate": "player=Takoyaki<br>count=%{x}<br>mean=%{y}<extra></extra>",
         "legendgroup": "Takoyaki",
         "marker": {
          "color": "#FFA15A",
          "symbol": "circle"
         },
         "mode": "markers",
         "name": "Takoyaki",
         "orientation": "v",
         "showlegend": true,
         "type": "scatter",
         "x": [
          2
         ],
         "xaxis": "x",
         "y": [
          97.85106607579581
         ],
         "yaxis": "y"
        },
        {
         "hovertemplate": "player=Nomy<br>count=%{x}<br>mean=%{y}<extra></extra>",
         "legendgroup": "Nomy",
         "marker": {
          "color": "#19d3f3",
          "symbol": "circle"
         },
         "mode": "markers",
         "name": "Nomy",
         "orientation": "v",
         "showlegend": true,
         "type": "scatter",
         "x": [
          83
         ],
         "xaxis": "x",
         "y": [
          98.10401938894293
         ],
         "yaxis": "y"
        },
        {
         "hovertemplate": "player=Elsa<br>count=%{x}<br>mean=%{y}<extra></extra>",
         "legendgroup": "Elsa",
         "marker": {
          "color": "#FF6692",
          "symbol": "circle"
         },
         "mode": "markers",
         "name": "Elsa",
         "orientation": "v",
         "showlegend": true,
         "type": "scatter",
         "x": [
          10
         ],
         "xaxis": "x",
         "y": [
          98.32091166022049
         ],
         "yaxis": "y"
        },
        {
         "hovertemplate": "player=Yakpung<br>count=%{x}<br>mean=%{y}<extra></extra>",
         "legendgroup": "Yakpung",
         "marker": {
          "color": "#B6E880",
          "symbol": "circle"
         },
         "mode": "markers",
         "name": "Yakpung",
         "orientation": "v",
         "showlegend": true,
         "type": "scatter",
         "x": [
          72
         ],
         "xaxis": "x",
         "y": [
          98.38544591128321
         ],
         "yaxis": "y"
        },
        {
         "hovertemplate": "player=KuKi<br>count=%{x}<br>mean=%{y}<extra></extra>",
         "legendgroup": "KuKi",
         "marker": {
          "color": "#FF97FF",
          "symbol": "circle"
         },
         "mode": "markers",
         "name": "KuKi",
         "orientation": "v",
         "showlegend": true,
         "type": "scatter",
         "x": [
          42
         ],
         "xaxis": "x",
         "y": [
          98.46044813631451
         ],
         "yaxis": "y"
        },
        {
         "hovertemplate": "player=MekO<br>count=%{x}<br>mean=%{y}<extra></extra>",
         "legendgroup": "MekO",
         "marker": {
          "color": "#FECB52",
          "symbol": "circle"
         },
         "mode": "markers",
         "name": "MekO",
         "orientation": "v",
         "showlegend": true,
         "type": "scatter",
         "x": [
          1
         ],
         "xaxis": "x",
         "y": [
          98.62717449002032
         ],
         "yaxis": "y"
        },
        {
         "hovertemplate": "player=frd<br>count=%{x}<br>mean=%{y}<extra></extra>",
         "legendgroup": "frd",
         "marker": {
          "color": "#636efa",
          "symbol": "circle"
         },
         "mode": "markers",
         "name": "frd",
         "orientation": "v",
         "showlegend": true,
         "type": "scatter",
         "x": [
          1
         ],
         "xaxis": "x",
         "y": [
          98.82981823566932
         ],
         "yaxis": "y"
        },
        {
         "hovertemplate": "player=HOTBA<br>count=%{x}<br>mean=%{y}<extra></extra>",
         "legendgroup": "HOTBA",
         "marker": {
          "color": "#EF553B",
          "symbol": "circle"
         },
         "mode": "markers",
         "name": "HOTBA",
         "orientation": "v",
         "showlegend": true,
         "type": "scatter",
         "x": [
          4
         ],
         "xaxis": "x",
         "y": [
          98.84105700992455
         ],
         "yaxis": "y"
        },
        {
         "hovertemplate": "player=fragi<br>count=%{x}<br>mean=%{y}<extra></extra>",
         "legendgroup": "fragi",
         "marker": {
          "color": "#00cc96",
          "symbol": "circle"
         },
         "mode": "markers",
         "name": "fragi",
         "orientation": "v",
         "showlegend": true,
         "type": "scatter",
         "x": [
          135
         ],
         "xaxis": "x",
         "y": [
          98.94974376218585
         ],
         "yaxis": "y"
        },
        {
         "hovertemplate": "player=super<br>count=%{x}<br>mean=%{y}<extra></extra>",
         "legendgroup": "super",
         "marker": {
          "color": "#ab63fa",
          "symbol": "circle"
         },
         "mode": "markers",
         "name": "super",
         "orientation": "v",
         "showlegend": true,
         "type": "scatter",
         "x": [
          92
         ],
         "xaxis": "x",
         "y": [
          99.03097002725316
         ],
         "yaxis": "y"
        },
        {
         "hovertemplate": "player=Rio<br>count=%{x}<br>mean=%{y}<extra></extra>",
         "legendgroup": "Rio",
         "marker": {
          "color": "#FFA15A",
          "symbol": "circle"
         },
         "mode": "markers",
         "name": "Rio",
         "orientation": "v",
         "showlegend": true,
         "type": "scatter",
         "x": [
          90
         ],
         "xaxis": "x",
         "y": [
          99.2108580245641
         ],
         "yaxis": "y"
        },
        {
         "hovertemplate": "player=LhCloudy<br>count=%{x}<br>mean=%{y}<extra></extra>",
         "legendgroup": "LhCloudy",
         "marker": {
          "color": "#19d3f3",
          "symbol": "circle"
         },
         "mode": "markers",
         "name": "LhCloudy",
         "orientation": "v",
         "showlegend": true,
         "type": "scatter",
         "x": [
          10
         ],
         "xaxis": "x",
         "y": [
          99.30806796656616
         ],
         "yaxis": "y"
        },
        {
         "hovertemplate": "player=Gator<br>count=%{x}<br>mean=%{y}<extra></extra>",
         "legendgroup": "Gator",
         "marker": {
          "color": "#FF6692",
          "symbol": "circle"
         },
         "mode": "markers",
         "name": "Gator",
         "orientation": "v",
         "showlegend": true,
         "type": "scatter",
         "x": [
          21
         ],
         "xaxis": "x",
         "y": [
          99.33954320323457
         ],
         "yaxis": "y"
        },
        {
         "hovertemplate": "player=ATing<br>count=%{x}<br>mean=%{y}<extra></extra>",
         "legendgroup": "ATing",
         "marker": {
          "color": "#B6E880",
          "symbol": "circle"
         },
         "mode": "markers",
         "name": "ATing",
         "orientation": "v",
         "showlegend": true,
         "type": "scatter",
         "x": [
          12
         ],
         "xaxis": "x",
         "y": [
          99.84464787781438
         ],
         "yaxis": "y"
        },
        {
         "hovertemplate": "player=Beast<br>count=%{x}<br>mean=%{y}<extra></extra>",
         "legendgroup": "Beast",
         "marker": {
          "color": "#FF97FF",
          "symbol": "circle"
         },
         "mode": "markers",
         "name": "Beast",
         "orientation": "v",
         "showlegend": true,
         "type": "scatter",
         "x": [
          15
         ],
         "xaxis": "x",
         "y": [
          99.92271546553677
         ],
         "yaxis": "y"
        },
        {
         "hovertemplate": "player=SWoN<br>count=%{x}<br>mean=%{y}<extra></extra>",
         "legendgroup": "SWoN",
         "marker": {
          "color": "#FECB52",
          "symbol": "circle"
         },
         "mode": "markers",
         "name": "SWoN",
         "orientation": "v",
         "showlegend": true,
         "type": "scatter",
         "x": [
          25
         ],
         "xaxis": "x",
         "y": [
          100.0593563545089
         ],
         "yaxis": "y"
        },
        {
         "hovertemplate": "player=Janus<br>count=%{x}<br>mean=%{y}<extra></extra>",
         "legendgroup": "Janus",
         "marker": {
          "color": "#636efa",
          "symbol": "circle"
         },
         "mode": "markers",
         "name": "Janus",
         "orientation": "v",
         "showlegend": true,
         "type": "scatter",
         "x": [
          95
         ],
         "xaxis": "x",
         "y": [
          100.1353204723419
         ],
         "yaxis": "y"
        },
        {
         "hovertemplate": "player=Pokpo<br>count=%{x}<br>mean=%{y}<extra></extra>",
         "legendgroup": "Pokpo",
         "marker": {
          "color": "#EF553B",
          "symbol": "circle"
         },
         "mode": "markers",
         "name": "Pokpo",
         "orientation": "v",
         "showlegend": true,
         "type": "scatter",
         "x": [
          42
         ],
         "xaxis": "x",
         "y": [
          100.15080580076743
         ],
         "yaxis": "y"
        },
        {
         "hovertemplate": "player=NoSmite<br>count=%{x}<br>mean=%{y}<extra></extra>",
         "legendgroup": "NoSmite",
         "marker": {
          "color": "#00cc96",
          "symbol": "circle"
         },
         "mode": "markers",
         "name": "NoSmite",
         "orientation": "v",
         "showlegend": true,
         "type": "scatter",
         "x": [
          39
         ],
         "xaxis": "x",
         "y": [
          100.16211494602042
         ],
         "yaxis": "y"
        },
        {
         "hovertemplate": "player=Muma<br>count=%{x}<br>mean=%{y}<extra></extra>",
         "legendgroup": "Muma",
         "marker": {
          "color": "#ab63fa",
          "symbol": "circle"
         },
         "mode": "markers",
         "name": "Muma",
         "orientation": "v",
         "showlegend": true,
         "type": "scatter",
         "x": [
          171
         ],
         "xaxis": "x",
         "y": [
          100.42866138893463
         ],
         "yaxis": "y"
        },
        {
         "hovertemplate": "player=iRemiix<br>count=%{x}<br>mean=%{y}<extra></extra>",
         "legendgroup": "iRemiix",
         "marker": {
          "color": "#FFA15A",
          "symbol": "circle"
         },
         "mode": "markers",
         "name": "iRemiix",
         "orientation": "v",
         "showlegend": true,
         "type": "scatter",
         "x": [
          50
         ],
         "xaxis": "x",
         "y": [
          100.51136627772158
         ],
         "yaxis": "y"
        },
        {
         "hovertemplate": "player=Gamsu<br>count=%{x}<br>mean=%{y}<extra></extra>",
         "legendgroup": "Gamsu",
         "marker": {
          "color": "#19d3f3",
          "symbol": "circle"
         },
         "mode": "markers",
         "name": "Gamsu",
         "orientation": "v",
         "showlegend": true,
         "type": "scatter",
         "x": [
          210
         ],
         "xaxis": "x",
         "y": [
          100.6027701234349
         ],
         "yaxis": "y"
        },
        {
         "hovertemplate": "player=Mano<br>count=%{x}<br>mean=%{y}<extra></extra>",
         "legendgroup": "Mano",
         "marker": {
          "color": "#FF6692",
          "symbol": "circle"
         },
         "mode": "markers",
         "name": "Mano",
         "orientation": "v",
         "showlegend": true,
         "type": "scatter",
         "x": [
          229
         ],
         "xaxis": "x",
         "y": [
          100.76060817616909
         ],
         "yaxis": "y"
        },
        {
         "hovertemplate": "player=OGE<br>count=%{x}<br>mean=%{y}<extra></extra>",
         "legendgroup": "OGE",
         "marker": {
          "color": "#B6E880",
          "symbol": "circle"
         },
         "mode": "markers",
         "name": "OGE",
         "orientation": "v",
         "showlegend": true,
         "type": "scatter",
         "x": [
          145
         ],
         "xaxis": "x",
         "y": [
          100.96554236202498
         ],
         "yaxis": "y"
        },
        {
         "hovertemplate": "player=BUMPER<br>count=%{x}<br>mean=%{y}<extra></extra>",
         "legendgroup": "BUMPER",
         "marker": {
          "color": "#FF97FF",
          "symbol": "circle"
         },
         "mode": "markers",
         "name": "BUMPER",
         "orientation": "v",
         "showlegend": true,
         "type": "scatter",
         "x": [
          39
         ],
         "xaxis": "x",
         "y": [
          101.05590617382394
         ],
         "yaxis": "y"
        },
        {
         "hovertemplate": "player=Miro<br>count=%{x}<br>mean=%{y}<extra></extra>",
         "legendgroup": "Miro",
         "marker": {
          "color": "#FECB52",
          "symbol": "circle"
         },
         "mode": "markers",
         "name": "Miro",
         "orientation": "v",
         "showlegend": true,
         "type": "scatter",
         "x": [
          96
         ],
         "xaxis": "x",
         "y": [
          101.21995437427056
         ],
         "yaxis": "y"
        },
        {
         "hovertemplate": "player=rOar<br>count=%{x}<br>mean=%{y}<extra></extra>",
         "legendgroup": "rOar",
         "marker": {
          "color": "#636efa",
          "symbol": "circle"
         },
         "mode": "markers",
         "name": "rOar",
         "orientation": "v",
         "showlegend": true,
         "type": "scatter",
         "x": [
          73
         ],
         "xaxis": "x",
         "y": [
          101.36032974074296
         ],
         "yaxis": "y"
        },
        {
         "hovertemplate": "player=DREAMER<br>count=%{x}<br>mean=%{y}<extra></extra>",
         "legendgroup": "DREAMER",
         "marker": {
          "color": "#EF553B",
          "symbol": "circle"
         },
         "mode": "markers",
         "name": "DREAMER",
         "orientation": "v",
         "showlegend": true,
         "type": "scatter",
         "x": [
          51
         ],
         "xaxis": "x",
         "y": [
          101.52795306924352
         ],
         "yaxis": "y"
        },
        {
         "hovertemplate": "player=FEARLESS<br>count=%{x}<br>mean=%{y}<extra></extra>",
         "legendgroup": "FEARLESS",
         "marker": {
          "color": "#00cc96",
          "symbol": "circle"
         },
         "mode": "markers",
         "name": "FEARLESS",
         "orientation": "v",
         "showlegend": true,
         "type": "scatter",
         "x": [
          224
         ],
         "xaxis": "x",
         "y": [
          101.5656605456618
         ],
         "yaxis": "y"
        },
        {
         "hovertemplate": "player=Fissure<br>count=%{x}<br>mean=%{y}<extra></extra>",
         "legendgroup": "Fissure",
         "marker": {
          "color": "#ab63fa",
          "symbol": "circle"
         },
         "mode": "markers",
         "name": "Fissure",
         "orientation": "v",
         "showlegend": true,
         "type": "scatter",
         "x": [
          132
         ],
         "xaxis": "x",
         "y": [
          101.86516200624115
         ],
         "yaxis": "y"
        },
        {
         "hovertemplate": "player=SADO<br>count=%{x}<br>mean=%{y}<extra></extra>",
         "legendgroup": "SADO",
         "marker": {
          "color": "#FFA15A",
          "symbol": "circle"
         },
         "mode": "markers",
         "name": "SADO",
         "orientation": "v",
         "showlegend": true,
         "type": "scatter",
         "x": [
          181
         ],
         "xaxis": "x",
         "y": [
          102.1225362337174
         ],
         "yaxis": "y"
        },
        {
         "hovertemplate": "player=Guxue<br>count=%{x}<br>mean=%{y}<extra></extra>",
         "legendgroup": "Guxue",
         "marker": {
          "color": "#19d3f3",
          "symbol": "circle"
         },
         "mode": "markers",
         "name": "Guxue",
         "orientation": "v",
         "showlegend": true,
         "type": "scatter",
         "x": [
          107
         ],
         "xaxis": "x",
         "y": [
          102.15887183871914
         ],
         "yaxis": "y"
        },
        {
         "hovertemplate": "player=Hydration<br>count=%{x}<br>mean=%{y}<extra></extra>",
         "legendgroup": "Hydration",
         "marker": {
          "color": "#FF6692",
          "symbol": "circle"
         },
         "mode": "markers",
         "name": "Hydration",
         "orientation": "v",
         "showlegend": true,
         "type": "scatter",
         "x": [
          15
         ],
         "xaxis": "x",
         "y": [
          102.15938426595156
         ],
         "yaxis": "y"
        },
        {
         "hovertemplate": "player=Fate<br>count=%{x}<br>mean=%{y}<extra></extra>",
         "legendgroup": "Fate",
         "marker": {
          "color": "#B6E880",
          "symbol": "circle"
         },
         "mode": "markers",
         "name": "Fate",
         "orientation": "v",
         "showlegend": true,
         "type": "scatter",
         "x": [
          272
         ],
         "xaxis": "x",
         "y": [
          102.28158525753302
         ],
         "yaxis": "y"
        },
        {
         "hovertemplate": "player=MAG<br>count=%{x}<br>mean=%{y}<extra></extra>",
         "legendgroup": "MAG",
         "marker": {
          "color": "#FF97FF",
          "symbol": "circle"
         },
         "mode": "markers",
         "name": "MAG",
         "orientation": "v",
         "showlegend": true,
         "type": "scatter",
         "x": [
          41
         ],
         "xaxis": "x",
         "y": [
          102.40403126864393
         ],
         "yaxis": "y"
        },
        {
         "hovertemplate": "player=Gesture<br>count=%{x}<br>mean=%{y}<extra></extra>",
         "legendgroup": "Gesture",
         "marker": {
          "color": "#FECB52",
          "symbol": "circle"
         },
         "mode": "markers",
         "name": "Gesture",
         "orientation": "v",
         "showlegend": true,
         "type": "scatter",
         "x": [
          289
         ],
         "xaxis": "x",
         "y": [
          102.61784834975519
         ],
         "yaxis": "y"
        },
        {
         "hovertemplate": "player=Stand1<br>count=%{x}<br>mean=%{y}<extra></extra>",
         "legendgroup": "Stand1",
         "marker": {
          "color": "#636efa",
          "symbol": "circle"
         },
         "mode": "markers",
         "name": "Stand1",
         "orientation": "v",
         "showlegend": true,
         "type": "scatter",
         "x": [
          36
         ],
         "xaxis": "x",
         "y": [
          102.64926622669877
         ],
         "yaxis": "y"
        },
        {
         "hovertemplate": "player=JJANGGU<br>count=%{x}<br>mean=%{y}<extra></extra>",
         "legendgroup": "JJANGGU",
         "marker": {
          "color": "#EF553B",
          "symbol": "circle"
         },
         "mode": "markers",
         "name": "JJANGGU",
         "orientation": "v",
         "showlegend": true,
         "type": "scatter",
         "x": [
          18
         ],
         "xaxis": "x",
         "y": [
          103.44330215451743
         ],
         "yaxis": "y"
        },
        {
         "hovertemplate": "player=smurf<br>count=%{x}<br>mean=%{y}<extra></extra>",
         "legendgroup": "smurf",
         "marker": {
          "color": "#00cc96",
          "symbol": "circle"
         },
         "mode": "markers",
         "name": "smurf",
         "orientation": "v",
         "showlegend": true,
         "type": "scatter",
         "x": [
          67
         ],
         "xaxis": "x",
         "y": [
          103.77125439920849
         ],
         "yaxis": "y"
        },
        {
         "hovertemplate": "player=ga9A<br>count=%{x}<br>mean=%{y}<extra></extra>",
         "legendgroup": "ga9A",
         "marker": {
          "color": "#ab63fa",
          "symbol": "circle"
         },
         "mode": "markers",
         "name": "ga9A",
         "orientation": "v",
         "showlegend": true,
         "type": "scatter",
         "x": [
          37
         ],
         "xaxis": "x",
         "y": [
          104.07465328006091
         ],
         "yaxis": "y"
        },
        {
         "hovertemplate": "player=Marve1<br>count=%{x}<br>mean=%{y}<extra></extra>",
         "legendgroup": "Marve1",
         "marker": {
          "color": "#FFA15A",
          "symbol": "circle"
         },
         "mode": "markers",
         "name": "Marve1",
         "orientation": "v",
         "showlegend": true,
         "type": "scatter",
         "x": [
          29
         ],
         "xaxis": "x",
         "y": [
          104.84095489271404
         ],
         "yaxis": "y"
        },
        {
         "hovertemplate": "player=sharyk<br>count=%{x}<br>mean=%{y}<extra></extra>",
         "legendgroup": "sharyk",
         "marker": {
          "color": "#19d3f3",
          "symbol": "circle"
         },
         "mode": "markers",
         "name": "sharyk",
         "orientation": "v",
         "showlegend": true,
         "type": "scatter",
         "x": [
          2
         ],
         "xaxis": "x",
         "y": [
          105.02267476666464
         ],
         "yaxis": "y"
        },
        {
         "hovertemplate": "player=Kalios<br>count=%{x}<br>mean=%{y}<extra></extra>",
         "legendgroup": "Kalios",
         "marker": {
          "color": "#FF6692",
          "symbol": "circle"
         },
         "mode": "markers",
         "name": "Kalios",
         "orientation": "v",
         "showlegend": true,
         "type": "scatter",
         "x": [
          11
         ],
         "xaxis": "x",
         "y": [
          106.368279011205
         ],
         "yaxis": "y"
        },
        {
         "hovertemplate": "player=MuZe<br>count=%{x}<br>mean=%{y}<extra></extra>",
         "legendgroup": "MuZe",
         "marker": {
          "color": "#B6E880",
          "symbol": "circle"
         },
         "mode": "markers",
         "name": "MuZe",
         "orientation": "v",
         "showlegend": true,
         "type": "scatter",
         "x": [
          43
         ],
         "xaxis": "x",
         "y": [
          106.88368189445073
         ],
         "yaxis": "y"
        },
        {
         "hovertemplate": "player=Karayan<br>count=%{x}<br>mean=%{y}<extra></extra>",
         "legendgroup": "Karayan",
         "marker": {
          "color": "#FF97FF",
          "symbol": "circle"
         },
         "mode": "markers",
         "name": "Karayan",
         "orientation": "v",
         "showlegend": true,
         "type": "scatter",
         "x": [
          2
         ],
         "xaxis": "x",
         "y": [
          115.4598367676986
         ],
         "yaxis": "y"
        }
       ],
       "layout": {
        "autosize": true,
        "legend": {
         "title": {
          "text": "player"
         },
         "tracegroupgap": 0
        },
        "margin": {
         "t": 60
        },
        "template": {
         "data": {
          "bar": [
           {
            "error_x": {
             "color": "#2a3f5f"
            },
            "error_y": {
             "color": "#2a3f5f"
            },
            "marker": {
             "line": {
              "color": "#E5ECF6",
              "width": 0.5
             },
             "pattern": {
              "fillmode": "overlay",
              "size": 10,
              "solidity": 0.2
             }
            },
            "type": "bar"
           }
          ],
          "barpolar": [
           {
            "marker": {
             "line": {
              "color": "#E5ECF6",
              "width": 0.5
             },
             "pattern": {
              "fillmode": "overlay",
              "size": 10,
              "solidity": 0.2
             }
            },
            "type": "barpolar"
           }
          ],
          "carpet": [
           {
            "aaxis": {
             "endlinecolor": "#2a3f5f",
             "gridcolor": "white",
             "linecolor": "white",
             "minorgridcolor": "white",
             "startlinecolor": "#2a3f5f"
            },
            "baxis": {
             "endlinecolor": "#2a3f5f",
             "gridcolor": "white",
             "linecolor": "white",
             "minorgridcolor": "white",
             "startlinecolor": "#2a3f5f"
            },
            "type": "carpet"
           }
          ],
          "choropleth": [
           {
            "colorbar": {
             "outlinewidth": 0,
             "ticks": ""
            },
            "type": "choropleth"
           }
          ],
          "contour": [
           {
            "colorbar": {
             "outlinewidth": 0,
             "ticks": ""
            },
            "colorscale": [
             [
              0,
              "#0d0887"
             ],
             [
              0.1111111111111111,
              "#46039f"
             ],
             [
              0.2222222222222222,
              "#7201a8"
             ],
             [
              0.3333333333333333,
              "#9c179e"
             ],
             [
              0.4444444444444444,
              "#bd3786"
             ],
             [
              0.5555555555555556,
              "#d8576b"
             ],
             [
              0.6666666666666666,
              "#ed7953"
             ],
             [
              0.7777777777777778,
              "#fb9f3a"
             ],
             [
              0.8888888888888888,
              "#fdca26"
             ],
             [
              1,
              "#f0f921"
             ]
            ],
            "type": "contour"
           }
          ],
          "contourcarpet": [
           {
            "colorbar": {
             "outlinewidth": 0,
             "ticks": ""
            },
            "type": "contourcarpet"
           }
          ],
          "heatmap": [
           {
            "colorbar": {
             "outlinewidth": 0,
             "ticks": ""
            },
            "colorscale": [
             [
              0,
              "#0d0887"
             ],
             [
              0.1111111111111111,
              "#46039f"
             ],
             [
              0.2222222222222222,
              "#7201a8"
             ],
             [
              0.3333333333333333,
              "#9c179e"
             ],
             [
              0.4444444444444444,
              "#bd3786"
             ],
             [
              0.5555555555555556,
              "#d8576b"
             ],
             [
              0.6666666666666666,
              "#ed7953"
             ],
             [
              0.7777777777777778,
              "#fb9f3a"
             ],
             [
              0.8888888888888888,
              "#fdca26"
             ],
             [
              1,
              "#f0f921"
             ]
            ],
            "type": "heatmap"
           }
          ],
          "heatmapgl": [
           {
            "colorbar": {
             "outlinewidth": 0,
             "ticks": ""
            },
            "colorscale": [
             [
              0,
              "#0d0887"
             ],
             [
              0.1111111111111111,
              "#46039f"
             ],
             [
              0.2222222222222222,
              "#7201a8"
             ],
             [
              0.3333333333333333,
              "#9c179e"
             ],
             [
              0.4444444444444444,
              "#bd3786"
             ],
             [
              0.5555555555555556,
              "#d8576b"
             ],
             [
              0.6666666666666666,
              "#ed7953"
             ],
             [
              0.7777777777777778,
              "#fb9f3a"
             ],
             [
              0.8888888888888888,
              "#fdca26"
             ],
             [
              1,
              "#f0f921"
             ]
            ],
            "type": "heatmapgl"
           }
          ],
          "histogram": [
           {
            "marker": {
             "pattern": {
              "fillmode": "overlay",
              "size": 10,
              "solidity": 0.2
             }
            },
            "type": "histogram"
           }
          ],
          "histogram2d": [
           {
            "colorbar": {
             "outlinewidth": 0,
             "ticks": ""
            },
            "colorscale": [
             [
              0,
              "#0d0887"
             ],
             [
              0.1111111111111111,
              "#46039f"
             ],
             [
              0.2222222222222222,
              "#7201a8"
             ],
             [
              0.3333333333333333,
              "#9c179e"
             ],
             [
              0.4444444444444444,
              "#bd3786"
             ],
             [
              0.5555555555555556,
              "#d8576b"
             ],
             [
              0.6666666666666666,
              "#ed7953"
             ],
             [
              0.7777777777777778,
              "#fb9f3a"
             ],
             [
              0.8888888888888888,
              "#fdca26"
             ],
             [
              1,
              "#f0f921"
             ]
            ],
            "type": "histogram2d"
           }
          ],
          "histogram2dcontour": [
           {
            "colorbar": {
             "outlinewidth": 0,
             "ticks": ""
            },
            "colorscale": [
             [
              0,
              "#0d0887"
             ],
             [
              0.1111111111111111,
              "#46039f"
             ],
             [
              0.2222222222222222,
              "#7201a8"
             ],
             [
              0.3333333333333333,
              "#9c179e"
             ],
             [
              0.4444444444444444,
              "#bd3786"
             ],
             [
              0.5555555555555556,
              "#d8576b"
             ],
             [
              0.6666666666666666,
              "#ed7953"
             ],
             [
              0.7777777777777778,
              "#fb9f3a"
             ],
             [
              0.8888888888888888,
              "#fdca26"
             ],
             [
              1,
              "#f0f921"
             ]
            ],
            "type": "histogram2dcontour"
           }
          ],
          "mesh3d": [
           {
            "colorbar": {
             "outlinewidth": 0,
             "ticks": ""
            },
            "type": "mesh3d"
           }
          ],
          "parcoords": [
           {
            "line": {
             "colorbar": {
              "outlinewidth": 0,
              "ticks": ""
             }
            },
            "type": "parcoords"
           }
          ],
          "pie": [
           {
            "automargin": true,
            "type": "pie"
           }
          ],
          "scatter": [
           {
            "fillpattern": {
             "fillmode": "overlay",
             "size": 10,
             "solidity": 0.2
            },
            "type": "scatter"
           }
          ],
          "scatter3d": [
           {
            "line": {
             "colorbar": {
              "outlinewidth": 0,
              "ticks": ""
             }
            },
            "marker": {
             "colorbar": {
              "outlinewidth": 0,
              "ticks": ""
             }
            },
            "type": "scatter3d"
           }
          ],
          "scattercarpet": [
           {
            "marker": {
             "colorbar": {
              "outlinewidth": 0,
              "ticks": ""
             }
            },
            "type": "scattercarpet"
           }
          ],
          "scattergeo": [
           {
            "marker": {
             "colorbar": {
              "outlinewidth": 0,
              "ticks": ""
             }
            },
            "type": "scattergeo"
           }
          ],
          "scattergl": [
           {
            "marker": {
             "colorbar": {
              "outlinewidth": 0,
              "ticks": ""
             }
            },
            "type": "scattergl"
           }
          ],
          "scattermapbox": [
           {
            "marker": {
             "colorbar": {
              "outlinewidth": 0,
              "ticks": ""
             }
            },
            "type": "scattermapbox"
           }
          ],
          "scatterpolar": [
           {
            "marker": {
             "colorbar": {
              "outlinewidth": 0,
              "ticks": ""
             }
            },
            "type": "scatterpolar"
           }
          ],
          "scatterpolargl": [
           {
            "marker": {
             "colorbar": {
              "outlinewidth": 0,
              "ticks": ""
             }
            },
            "type": "scatterpolargl"
           }
          ],
          "scatterternary": [
           {
            "marker": {
             "colorbar": {
              "outlinewidth": 0,
              "ticks": ""
             }
            },
            "type": "scatterternary"
           }
          ],
          "surface": [
           {
            "colorbar": {
             "outlinewidth": 0,
             "ticks": ""
            },
            "colorscale": [
             [
              0,
              "#0d0887"
             ],
             [
              0.1111111111111111,
              "#46039f"
             ],
             [
              0.2222222222222222,
              "#7201a8"
             ],
             [
              0.3333333333333333,
              "#9c179e"
             ],
             [
              0.4444444444444444,
              "#bd3786"
             ],
             [
              0.5555555555555556,
              "#d8576b"
             ],
             [
              0.6666666666666666,
              "#ed7953"
             ],
             [
              0.7777777777777778,
              "#fb9f3a"
             ],
             [
              0.8888888888888888,
              "#fdca26"
             ],
             [
              1,
              "#f0f921"
             ]
            ],
            "type": "surface"
           }
          ],
          "table": [
           {
            "cells": {
             "fill": {
              "color": "#EBF0F8"
             },
             "line": {
              "color": "white"
             }
            },
            "header": {
             "fill": {
              "color": "#C8D4E3"
             },
             "line": {
              "color": "white"
             }
            },
            "type": "table"
           }
          ]
         },
         "layout": {
          "annotationdefaults": {
           "arrowcolor": "#2a3f5f",
           "arrowhead": 0,
           "arrowwidth": 1
          },
          "autotypenumbers": "strict",
          "coloraxis": {
           "colorbar": {
            "outlinewidth": 0,
            "ticks": ""
           }
          },
          "colorscale": {
           "diverging": [
            [
             0,
             "#8e0152"
            ],
            [
             0.1,
             "#c51b7d"
            ],
            [
             0.2,
             "#de77ae"
            ],
            [
             0.3,
             "#f1b6da"
            ],
            [
             0.4,
             "#fde0ef"
            ],
            [
             0.5,
             "#f7f7f7"
            ],
            [
             0.6,
             "#e6f5d0"
            ],
            [
             0.7,
             "#b8e186"
            ],
            [
             0.8,
             "#7fbc41"
            ],
            [
             0.9,
             "#4d9221"
            ],
            [
             1,
             "#276419"
            ]
           ],
           "sequential": [
            [
             0,
             "#0d0887"
            ],
            [
             0.1111111111111111,
             "#46039f"
            ],
            [
             0.2222222222222222,
             "#7201a8"
            ],
            [
             0.3333333333333333,
             "#9c179e"
            ],
            [
             0.4444444444444444,
             "#bd3786"
            ],
            [
             0.5555555555555556,
             "#d8576b"
            ],
            [
             0.6666666666666666,
             "#ed7953"
            ],
            [
             0.7777777777777778,
             "#fb9f3a"
            ],
            [
             0.8888888888888888,
             "#fdca26"
            ],
            [
             1,
             "#f0f921"
            ]
           ],
           "sequentialminus": [
            [
             0,
             "#0d0887"
            ],
            [
             0.1111111111111111,
             "#46039f"
            ],
            [
             0.2222222222222222,
             "#7201a8"
            ],
            [
             0.3333333333333333,
             "#9c179e"
            ],
            [
             0.4444444444444444,
             "#bd3786"
            ],
            [
             0.5555555555555556,
             "#d8576b"
            ],
            [
             0.6666666666666666,
             "#ed7953"
            ],
            [
             0.7777777777777778,
             "#fb9f3a"
            ],
            [
             0.8888888888888888,
             "#fdca26"
            ],
            [
             1,
             "#f0f921"
            ]
           ]
          },
          "colorway": [
           "#636efa",
           "#EF553B",
           "#00cc96",
           "#ab63fa",
           "#FFA15A",
           "#19d3f3",
           "#FF6692",
           "#B6E880",
           "#FF97FF",
           "#FECB52"
          ],
          "font": {
           "color": "#2a3f5f"
          },
          "geo": {
           "bgcolor": "white",
           "lakecolor": "white",
           "landcolor": "#E5ECF6",
           "showlakes": true,
           "showland": true,
           "subunitcolor": "white"
          },
          "hoverlabel": {
           "align": "left"
          },
          "hovermode": "closest",
          "mapbox": {
           "style": "light"
          },
          "paper_bgcolor": "white",
          "plot_bgcolor": "#E5ECF6",
          "polar": {
           "angularaxis": {
            "gridcolor": "white",
            "linecolor": "white",
            "ticks": ""
           },
           "bgcolor": "#E5ECF6",
           "radialaxis": {
            "gridcolor": "white",
            "linecolor": "white",
            "ticks": ""
           }
          },
          "scene": {
           "xaxis": {
            "backgroundcolor": "#E5ECF6",
            "gridcolor": "white",
            "gridwidth": 2,
            "linecolor": "white",
            "showbackground": true,
            "ticks": "",
            "zerolinecolor": "white"
           },
           "yaxis": {
            "backgroundcolor": "#E5ECF6",
            "gridcolor": "white",
            "gridwidth": 2,
            "linecolor": "white",
            "showbackground": true,
            "ticks": "",
            "zerolinecolor": "white"
           },
           "zaxis": {
            "backgroundcolor": "#E5ECF6",
            "gridcolor": "white",
            "gridwidth": 2,
            "linecolor": "white",
            "showbackground": true,
            "ticks": "",
            "zerolinecolor": "white"
           }
          },
          "shapedefaults": {
           "line": {
            "color": "#2a3f5f"
           }
          },
          "ternary": {
           "aaxis": {
            "gridcolor": "white",
            "linecolor": "white",
            "ticks": ""
           },
           "baxis": {
            "gridcolor": "white",
            "linecolor": "white",
            "ticks": ""
           },
           "bgcolor": "#E5ECF6",
           "caxis": {
            "gridcolor": "white",
            "linecolor": "white",
            "ticks": ""
           }
          },
          "title": {
           "x": 0.05
          },
          "xaxis": {
           "automargin": true,
           "gridcolor": "white",
           "linecolor": "white",
           "ticks": "",
           "title": {
            "standoff": 15
           },
           "zerolinecolor": "white",
           "zerolinewidth": 2
          },
          "yaxis": {
           "automargin": true,
           "gridcolor": "white",
           "linecolor": "white",
           "ticks": "",
           "title": {
            "standoff": 15
           },
           "zerolinecolor": "white",
           "zerolinewidth": 2
          }
         }
        },
        "xaxis": {
         "anchor": "y",
         "autorange": true,
         "domain": [
          0,
          1
         ],
         "range": [
          -15.718907260963338,
          305.71890726096336
         ],
         "title": {
          "text": "count"
         },
         "type": "linear"
        },
        "yaxis": {
         "anchor": "x",
         "autorange": true,
         "domain": [
          0,
          1
         ],
         "range": [
          81.68683056163934,
          117.88688593476012
         ],
         "title": {
          "text": "mean"
         },
         "type": "linear"
        }
       }
      },
      "image/png": "[encoded data removed]",
      "text/html": [
       "<div>                            <div id=\"b6cf9159-6e8f-41b9-8a5a-1fe9a2102c7f\" class=\"plotly-graph-div\" style=\"height:525px; width:100%;\"></div>            <script type=\"text/javascript\">                require([\"plotly\"], function(Plotly) {                    window.PLOTLYENV=window.PLOTLYENV || {};                                    if (document.getElementById(\"b6cf9159-6e8f-41b9-8a5a-1fe9a2102c7f\")) {                    Plotly.newPlot(                        \"b6cf9159-6e8f-41b9-8a5a-1fe9a2102c7f\",                        [{\"hovertemplate\":\"player=Xushu<br>count=%{x}<br>mean=%{y}<extra></extra>\",\"legendgroup\":\"Xushu\",\"marker\":{\"color\":\"#636efa\",\"symbol\":\"circle\"},\"mode\":\"markers\",\"name\":\"Xushu\",\"orientation\":\"v\",\"showlegend\":true,\"x\":[5.0],\"xaxis\":\"x\",\"y\":[84.11387972870085],\"yaxis\":\"y\",\"type\":\"scatter\"},{\"hovertemplate\":\"player=CHECKMATE<br>count=%{x}<br>mean=%{y}<extra></extra>\",\"legendgroup\":\"CHECKMATE\",\"marker\":{\"color\":\"#EF553B\",\"symbol\":\"circle\"},\"mode\":\"markers\",\"name\":\"CHECKMATE\",\"orientation\":\"v\",\"showlegend\":true,\"x\":[2.0],\"xaxis\":\"x\",\"y\":[84.3644603009548],\"yaxis\":\"y\",\"type\":\"scatter\"},{\"hovertemplate\":\"player=axxiom<br>count=%{x}<br>mean=%{y}<extra></extra>\",\"legendgroup\":\"axxiom\",\"marker\":{\"color\":\"#00cc96\",\"symbol\":\"circle\"},\"mode\":\"markers\",\"name\":\"axxiom\",\"orientation\":\"v\",\"showlegend\":true,\"x\":[2.0],\"xaxis\":\"x\",\"y\":[86.70337792814769],\"yaxis\":\"y\",\"type\":\"scatter\"},{\"hovertemplate\":\"player=Silver3<br>count=%{x}<br>mean=%{y}<extra></extra>\",\"legendgroup\":\"Silver3\",\"marker\":{\"color\":\"#ab63fa\",\"symbol\":\"circle\"},\"mode\":\"markers\",\"name\":\"Silver3\",\"orientation\":\"v\",\"showlegend\":true,\"x\":[23.0],\"xaxis\":\"x\",\"y\":[88.2627061159042],\"yaxis\":\"y\",\"type\":\"scatter\"},{\"hovertemplate\":\"player=Numlocked<br>count=%{x}<br>mean=%{y}<extra></extra>\",\"legendgroup\":\"Numlocked\",\"marker\":{\"color\":\"#FFA15A\",\"symbol\":\"circle\"},\"mode\":\"markers\",\"name\":\"Numlocked\",\"orientation\":\"v\",\"showlegend\":true,\"x\":[1.0],\"xaxis\":\"x\",\"y\":[88.5928187955756],\"yaxis\":\"y\",\"type\":\"scatter\"},{\"hovertemplate\":\"player=ChangSik<br>count=%{x}<br>mean=%{y}<extra></extra>\",\"legendgroup\":\"ChangSik\",\"marker\":{\"color\":\"#19d3f3\",\"symbol\":\"circle\"},\"mode\":\"markers\",\"name\":\"ChangSik\",\"orientation\":\"v\",\"showlegend\":true,\"x\":[17.0],\"xaxis\":\"x\",\"y\":[88.92450280563835],\"yaxis\":\"y\",\"type\":\"scatter\"},{\"hovertemplate\":\"player=Trill<br>count=%{x}<br>mean=%{y}<extra></extra>\",\"legendgroup\":\"Trill\",\"marker\":{\"color\":\"#FF6692\",\"symbol\":\"circle\"},\"mode\":\"markers\",\"name\":\"Trill\",\"orientation\":\"v\",\"showlegend\":true,\"x\":[6.0],\"xaxis\":\"x\",\"y\":[89.05582511214595],\"yaxis\":\"y\",\"type\":\"scatter\"},{\"hovertemplate\":\"player=Roshan<br>count=%{x}<br>mean=%{y}<extra></extra>\",\"legendgroup\":\"Roshan\",\"marker\":{\"color\":\"#B6E880\",\"symbol\":\"circle\"},\"mode\":\"markers\",\"name\":\"Roshan\",\"orientation\":\"v\",\"showlegend\":true,\"x\":[61.0],\"xaxis\":\"x\",\"y\":[89.14530705834599],\"yaxis\":\"y\",\"type\":\"scatter\"},{\"hovertemplate\":\"player=SNT<br>count=%{x}<br>mean=%{y}<extra></extra>\",\"legendgroup\":\"SNT\",\"marker\":{\"color\":\"#FF97FF\",\"symbol\":\"circle\"},\"mode\":\"markers\",\"name\":\"SNT\",\"orientation\":\"v\",\"showlegend\":true,\"x\":[58.0],\"xaxis\":\"x\",\"y\":[93.39213797686548],\"yaxis\":\"y\",\"type\":\"scatter\"},{\"hovertemplate\":\"player=Jmac<br>count=%{x}<br>mean=%{y}<extra></extra>\",\"legendgroup\":\"Jmac\",\"marker\":{\"color\":\"#FECB52\",\"symbol\":\"circle\"},\"mode\":\"markers\",\"name\":\"Jmac\",\"orientation\":\"v\",\"showlegend\":true,\"x\":[25.0],\"xaxis\":\"x\",\"y\":[94.08824131442117],\"yaxis\":\"y\",\"type\":\"scatter\"},{\"hovertemplate\":\"player=cocco<br>count=%{x}<br>mean=%{y}<extra></extra>\",\"legendgroup\":\"cocco\",\"marker\":{\"color\":\"#636efa\",\"symbol\":\"circle\"},\"mode\":\"markers\",\"name\":\"cocco\",\"orientation\":\"v\",\"showlegend\":true,\"x\":[20.0],\"xaxis\":\"x\",\"y\":[94.91570560134429],\"yaxis\":\"y\",\"type\":\"scatter\"},{\"hovertemplate\":\"player=ShRedLock<br>count=%{x}<br>mean=%{y}<extra></extra>\",\"legendgroup\":\"ShRedLock\",\"marker\":{\"color\":\"#EF553B\",\"symbol\":\"circle\"},\"mode\":\"markers\",\"name\":\"ShRedLock\",\"orientation\":\"v\",\"showlegend\":true,\"x\":[36.0],\"xaxis\":\"x\",\"y\":[95.1000990899373],\"yaxis\":\"y\",\"type\":\"scatter\"},{\"hovertemplate\":\"player=numlocked<br>count=%{x}<br>mean=%{y}<extra></extra>\",\"legendgroup\":\"numlocked\",\"marker\":{\"color\":\"#00cc96\",\"symbol\":\"circle\"},\"mode\":\"markers\",\"name\":\"numlocked\",\"orientation\":\"v\",\"showlegend\":true,\"x\":[12.0],\"xaxis\":\"x\",\"y\":[95.1415849799612],\"yaxis\":\"y\",\"type\":\"scatter\"},{\"hovertemplate\":\"player=ameng<br>count=%{x}<br>mean=%{y}<extra></extra>\",\"legendgroup\":\"ameng\",\"marker\":{\"color\":\"#ab63fa\",\"symbol\":\"circle\"},\"mode\":\"markers\",\"name\":\"ameng\",\"orientation\":\"v\",\"showlegend\":true,\"x\":[20.0],\"xaxis\":\"x\",\"y\":[95.69868461624203],\"yaxis\":\"y\",\"type\":\"scatter\"},{\"hovertemplate\":\"player=FCTFCTN<br>count=%{x}<br>mean=%{y}<extra></extra>\",\"legendgroup\":\"FCTFCTN\",\"marker\":{\"color\":\"#FFA15A\",\"symbol\":\"circle\"},\"mode\":\"markers\",\"name\":\"FCTFCTN\",\"orientation\":\"v\",\"showlegend\":true,\"x\":[11.0],\"xaxis\":\"x\",\"y\":[95.94543426228593],\"yaxis\":\"y\",\"type\":\"scatter\"},{\"hovertemplate\":\"player=CWoosH<br>count=%{x}<br>mean=%{y}<extra></extra>\",\"legendgroup\":\"CWoosH\",\"marker\":{\"color\":\"#19d3f3\",\"symbol\":\"circle\"},\"mode\":\"markers\",\"name\":\"CWoosH\",\"orientation\":\"v\",\"showlegend\":true,\"x\":[93.0],\"xaxis\":\"x\",\"y\":[96.3024457116339],\"yaxis\":\"y\",\"type\":\"scatter\"},{\"hovertemplate\":\"player=Fusions<br>count=%{x}<br>mean=%{y}<extra></extra>\",\"legendgroup\":\"Fusions\",\"marker\":{\"color\":\"#FF6692\",\"symbol\":\"circle\"},\"mode\":\"markers\",\"name\":\"Fusions\",\"orientation\":\"v\",\"showlegend\":true,\"x\":[38.0],\"xaxis\":\"x\",\"y\":[96.38723276811713],\"yaxis\":\"y\",\"type\":\"scatter\"},{\"hovertemplate\":\"player=Hadi<br>count=%{x}<br>mean=%{y}<extra></extra>\",\"legendgroup\":\"Hadi\",\"marker\":{\"color\":\"#B6E880\",\"symbol\":\"circle\"},\"mode\":\"markers\",\"name\":\"Hadi\",\"orientation\":\"v\",\"showlegend\":true,\"x\":[13.0],\"xaxis\":\"x\",\"y\":[96.48465990435237],\"yaxis\":\"y\",\"type\":\"scatter\"},{\"hovertemplate\":\"player=Taimou<br>count=%{x}<br>mean=%{y}<extra></extra>\",\"legendgroup\":\"Taimou\",\"marker\":{\"color\":\"#FF97FF\",\"symbol\":\"circle\"},\"mode\":\"markers\",\"name\":\"Taimou\",\"orientation\":\"v\",\"showlegend\":true,\"x\":[17.0],\"xaxis\":\"x\",\"y\":[96.5862002194802],\"yaxis\":\"y\",\"type\":\"scatter\"},{\"hovertemplate\":\"player=Mickie<br>count=%{x}<br>mean=%{y}<extra></extra>\",\"legendgroup\":\"Mickie\",\"marker\":{\"color\":\"#FECB52\",\"symbol\":\"circle\"},\"mode\":\"markers\",\"name\":\"Mickie\",\"orientation\":\"v\",\"showlegend\":true,\"x\":[14.0],\"xaxis\":\"x\",\"y\":[96.92051862898798],\"yaxis\":\"y\",\"type\":\"scatter\"},{\"hovertemplate\":\"player=Daan<br>count=%{x}<br>mean=%{y}<extra></extra>\",\"legendgroup\":\"Daan\",\"marker\":{\"color\":\"#636efa\",\"symbol\":\"circle\"},\"mode\":\"markers\",\"name\":\"Daan\",\"orientation\":\"v\",\"showlegend\":true,\"x\":[15.0],\"xaxis\":\"x\",\"y\":[97.23226880604884],\"yaxis\":\"y\",\"type\":\"scatter\"},{\"hovertemplate\":\"player=xQc<br>count=%{x}<br>mean=%{y}<extra></extra>\",\"legendgroup\":\"xQc\",\"marker\":{\"color\":\"#EF553B\",\"symbol\":\"circle\"},\"mode\":\"markers\",\"name\":\"xQc\",\"orientation\":\"v\",\"showlegend\":true,\"x\":[19.0],\"xaxis\":\"x\",\"y\":[97.64829509960543],\"yaxis\":\"y\",\"type\":\"scatter\"},{\"hovertemplate\":\"player=BenBest<br>count=%{x}<br>mean=%{y}<extra></extra>\",\"legendgroup\":\"BenBest\",\"marker\":{\"color\":\"#00cc96\",\"symbol\":\"circle\"},\"mode\":\"markers\",\"name\":\"BenBest\",\"orientation\":\"v\",\"showlegend\":true,\"x\":[16.0],\"xaxis\":\"x\",\"y\":[97.66945053501942],\"yaxis\":\"y\",\"type\":\"scatter\"},{\"hovertemplate\":\"player=ryujehong<br>count=%{x}<br>mean=%{y}<extra></extra>\",\"legendgroup\":\"ryujehong\",\"marker\":{\"color\":\"#ab63fa\",\"symbol\":\"circle\"},\"mode\":\"markers\",\"name\":\"ryujehong\",\"orientation\":\"v\",\"showlegend\":true,\"x\":[16.0],\"xaxis\":\"x\",\"y\":[97.72513621750434],\"yaxis\":\"y\",\"type\":\"scatter\"},{\"hovertemplate\":\"player=Takoyaki<br>count=%{x}<br>mean=%{y}<extra></extra>\",\"legendgroup\":\"Takoyaki\",\"marker\":{\"color\":\"#FFA15A\",\"symbol\":\"circle\"},\"mode\":\"markers\",\"name\":\"Takoyaki\",\"orientation\":\"v\",\"showlegend\":true,\"x\":[2.0],\"xaxis\":\"x\",\"y\":[97.85106607579581],\"yaxis\":\"y\",\"type\":\"scatter\"},{\"hovertemplate\":\"player=Nomy<br>count=%{x}<br>mean=%{y}<extra></extra>\",\"legendgroup\":\"Nomy\",\"marker\":{\"color\":\"#19d3f3\",\"symbol\":\"circle\"},\"mode\":\"markers\",\"name\":\"Nomy\",\"orientation\":\"v\",\"showlegend\":true,\"x\":[83.0],\"xaxis\":\"x\",\"y\":[98.10401938894293],\"yaxis\":\"y\",\"type\":\"scatter\"},{\"hovertemplate\":\"player=Elsa<br>count=%{x}<br>mean=%{y}<extra></extra>\",\"legendgroup\":\"Elsa\",\"marker\":{\"color\":\"#FF6692\",\"symbol\":\"circle\"},\"mode\":\"markers\",\"name\":\"Elsa\",\"orientation\":\"v\",\"showlegend\":true,\"x\":[10.0],\"xaxis\":\"x\",\"y\":[98.32091166022049],\"yaxis\":\"y\",\"type\":\"scatter\"},{\"hovertemplate\":\"player=Yakpung<br>count=%{x}<br>mean=%{y}<extra></extra>\",\"legendgroup\":\"Yakpung\",\"marker\":{\"color\":\"#B6E880\",\"symbol\":\"circle\"},\"mode\":\"markers\",\"name\":\"Yakpung\",\"orientation\":\"v\",\"showlegend\":true,\"x\":[72.0],\"xaxis\":\"x\",\"y\":[98.38544591128321],\"yaxis\":\"y\",\"type\":\"scatter\"},{\"hovertemplate\":\"player=KuKi<br>count=%{x}<br>mean=%{y}<extra></extra>\",\"legendgroup\":\"KuKi\",\"marker\":{\"color\":\"#FF97FF\",\"symbol\":\"circle\"},\"mode\":\"markers\",\"name\":\"KuKi\",\"orientation\":\"v\",\"showlegend\":true,\"x\":[42.0],\"xaxis\":\"x\",\"y\":[98.46044813631451],\"yaxis\":\"y\",\"type\":\"scatter\"},{\"hovertemplate\":\"player=MekO<br>count=%{x}<br>mean=%{y}<extra></extra>\",\"legendgroup\":\"MekO\",\"marker\":{\"color\":\"#FECB52\",\"symbol\":\"circle\"},\"mode\":\"markers\",\"name\":\"MekO\",\"orientation\":\"v\",\"showlegend\":true,\"x\":[1.0],\"xaxis\":\"x\",\"y\":[98.62717449002032],\"yaxis\":\"y\",\"type\":\"scatter\"},{\"hovertemplate\":\"player=frd<br>count=%{x}<br>mean=%{y}<extra></extra>\",\"legendgroup\":\"frd\",\"marker\":{\"color\":\"#636efa\",\"symbol\":\"circle\"},\"mode\":\"markers\",\"name\":\"frd\",\"orientation\":\"v\",\"showlegend\":true,\"x\":[1.0],\"xaxis\":\"x\",\"y\":[98.82981823566932],\"yaxis\":\"y\",\"type\":\"scatter\"},{\"hovertemplate\":\"player=HOTBA<br>count=%{x}<br>mean=%{y}<extra></extra>\",\"legendgroup\":\"HOTBA\",\"marker\":{\"color\":\"#EF553B\",\"symbol\":\"circle\"},\"mode\":\"markers\",\"name\":\"HOTBA\",\"orientation\":\"v\",\"showlegend\":true,\"x\":[4.0],\"xaxis\":\"x\",\"y\":[98.84105700992455],\"yaxis\":\"y\",\"type\":\"scatter\"},{\"hovertemplate\":\"player=fragi<br>count=%{x}<br>mean=%{y}<extra></extra>\",\"legendgroup\":\"fragi\",\"marker\":{\"color\":\"#00cc96\",\"symbol\":\"circle\"},\"mode\":\"markers\",\"name\":\"fragi\",\"orientation\":\"v\",\"showlegend\":true,\"x\":[135.0],\"xaxis\":\"x\",\"y\":[98.94974376218585],\"yaxis\":\"y\",\"type\":\"scatter\"},{\"hovertemplate\":\"player=super<br>count=%{x}<br>mean=%{y}<extra></extra>\",\"legendgroup\":\"super\",\"marker\":{\"color\":\"#ab63fa\",\"symbol\":\"circle\"},\"mode\":\"markers\",\"name\":\"super\",\"orientation\":\"v\",\"showlegend\":true,\"x\":[92.0],\"xaxis\":\"x\",\"y\":[99.03097002725316],\"yaxis\":\"y\",\"type\":\"scatter\"},{\"hovertemplate\":\"player=Rio<br>count=%{x}<br>mean=%{y}<extra></extra>\",\"legendgroup\":\"Rio\",\"marker\":{\"color\":\"#FFA15A\",\"symbol\":\"circle\"},\"mode\":\"markers\",\"name\":\"Rio\",\"orientation\":\"v\",\"showlegend\":true,\"x\":[90.0],\"xaxis\":\"x\",\"y\":[99.2108580245641],\"yaxis\":\"y\",\"type\":\"scatter\"},{\"hovertemplate\":\"player=LhCloudy<br>count=%{x}<br>mean=%{y}<extra></extra>\",\"legendgroup\":\"LhCloudy\",\"marker\":{\"color\":\"#19d3f3\",\"symbol\":\"circle\"},\"mode\":\"markers\",\"name\":\"LhCloudy\",\"orientation\":\"v\",\"showlegend\":true,\"x\":[10.0],\"xaxis\":\"x\",\"y\":[99.30806796656616],\"yaxis\":\"y\",\"type\":\"scatter\"},{\"hovertemplate\":\"player=Gator<br>count=%{x}<br>mean=%{y}<extra></extra>\",\"legendgroup\":\"Gator\",\"marker\":{\"color\":\"#FF6692\",\"symbol\":\"circle\"},\"mode\":\"markers\",\"name\":\"Gator\",\"orientation\":\"v\",\"showlegend\":true,\"x\":[21.0],\"xaxis\":\"x\",\"y\":[99.33954320323457],\"yaxis\":\"y\",\"type\":\"scatter\"},{\"hovertemplate\":\"player=ATing<br>count=%{x}<br>mean=%{y}<extra></extra>\",\"legendgroup\":\"ATing\",\"marker\":{\"color\":\"#B6E880\",\"symbol\":\"circle\"},\"mode\":\"markers\",\"name\":\"ATing\",\"orientation\":\"v\",\"showlegend\":true,\"x\":[12.0],\"xaxis\":\"x\",\"y\":[99.84464787781438],\"yaxis\":\"y\",\"type\":\"scatter\"},{\"hovertemplate\":\"player=Beast<br>count=%{x}<br>mean=%{y}<extra></extra>\",\"legendgroup\":\"Beast\",\"marker\":{\"color\":\"#FF97FF\",\"symbol\":\"circle\"},\"mode\":\"markers\",\"name\":\"Beast\",\"orientation\":\"v\",\"showlegend\":true,\"x\":[15.0],\"xaxis\":\"x\",\"y\":[99.92271546553677],\"yaxis\":\"y\",\"type\":\"scatter\"},{\"hovertemplate\":\"player=SWoN<br>count=%{x}<br>mean=%{y}<extra></extra>\",\"legendgroup\":\"SWoN\",\"marker\":{\"color\":\"#FECB52\",\"symbol\":\"circle\"},\"mode\":\"markers\",\"name\":\"SWoN\",\"orientation\":\"v\",\"showlegend\":true,\"x\":[25.0],\"xaxis\":\"x\",\"y\":[100.0593563545089],\"yaxis\":\"y\",\"type\":\"scatter\"},{\"hovertemplate\":\"player=Janus<br>count=%{x}<br>mean=%{y}<extra></extra>\",\"legendgroup\":\"Janus\",\"marker\":{\"color\":\"#636efa\",\"symbol\":\"circle\"},\"mode\":\"markers\",\"name\":\"Janus\",\"orientation\":\"v\",\"showlegend\":true,\"x\":[95.0],\"xaxis\":\"x\",\"y\":[100.1353204723419],\"yaxis\":\"y\",\"type\":\"scatter\"},{\"hovertemplate\":\"player=Pokpo<br>count=%{x}<br>mean=%{y}<extra></extra>\",\"legendgroup\":\"Pokpo\",\"marker\":{\"color\":\"#EF553B\",\"symbol\":\"circle\"},\"mode\":\"markers\",\"name\":\"Pokpo\",\"orientation\":\"v\",\"showlegend\":true,\"x\":[42.0],\"xaxis\":\"x\",\"y\":[100.15080580076743],\"yaxis\":\"y\",\"type\":\"scatter\"},{\"hovertemplate\":\"player=NoSmite<br>count=%{x}<br>mean=%{y}<extra></extra>\",\"legendgroup\":\"NoSmite\",\"marker\":{\"color\":\"#00cc96\",\"symbol\":\"circle\"},\"mode\":\"markers\",\"name\":\"NoSmite\",\"orientation\":\"v\",\"showlegend\":true,\"x\":[39.0],\"xaxis\":\"x\",\"y\":[100.16211494602042],\"yaxis\":\"y\",\"type\":\"scatter\"},{\"hovertemplate\":\"player=Muma<br>count=%{x}<br>mean=%{y}<extra></extra>\",\"legendgroup\":\"Muma\",\"marker\":{\"color\":\"#ab63fa\",\"symbol\":\"circle\"},\"mode\":\"markers\",\"name\":\"Muma\",\"orientation\":\"v\",\"showlegend\":true,\"x\":[171.0],\"xaxis\":\"x\",\"y\":[100.42866138893463],\"yaxis\":\"y\",\"type\":\"scatter\"},{\"hovertemplate\":\"player=iRemiix<br>count=%{x}<br>mean=%{y}<extra></extra>\",\"legendgroup\":\"iRemiix\",\"marker\":{\"color\":\"#FFA15A\",\"symbol\":\"circle\"},\"mode\":\"markers\",\"name\":\"iRemiix\",\"orientation\":\"v\",\"showlegend\":true,\"x\":[50.0],\"xaxis\":\"x\",\"y\":[100.51136627772158],\"yaxis\":\"y\",\"type\":\"scatter\"},{\"hovertemplate\":\"player=Gamsu<br>count=%{x}<br>mean=%{y}<extra></extra>\",\"legendgroup\":\"Gamsu\",\"marker\":{\"color\":\"#19d3f3\",\"symbol\":\"circle\"},\"mode\":\"markers\",\"name\":\"Gamsu\",\"orientation\":\"v\",\"showlegend\":true,\"x\":[210.0],\"xaxis\":\"x\",\"y\":[100.6027701234349],\"yaxis\":\"y\",\"type\":\"scatter\"},{\"hovertemplate\":\"player=Mano<br>count=%{x}<br>mean=%{y}<extra></extra>\",\"legendgroup\":\"Mano\",\"marker\":{\"color\":\"#FF6692\",\"symbol\":\"circle\"},\"mode\":\"markers\",\"name\":\"Mano\",\"orientation\":\"v\",\"showlegend\":true,\"x\":[229.0],\"xaxis\":\"x\",\"y\":[100.76060817616909],\"yaxis\":\"y\",\"type\":\"scatter\"},{\"hovertemplate\":\"player=OGE<br>count=%{x}<br>mean=%{y}<extra></extra>\",\"legendgroup\":\"OGE\",\"marker\":{\"color\":\"#B6E880\",\"symbol\":\"circle\"},\"mode\":\"markers\",\"name\":\"OGE\",\"orientation\":\"v\",\"showlegend\":true,\"x\":[145.0],\"xaxis\":\"x\",\"y\":[100.96554236202498],\"yaxis\":\"y\",\"type\":\"scatter\"},{\"hovertemplate\":\"player=BUMPER<br>count=%{x}<br>mean=%{y}<extra></extra>\",\"legendgroup\":\"BUMPER\",\"marker\":{\"color\":\"#FF97FF\",\"symbol\":\"circle\"},\"mode\":\"markers\",\"name\":\"BUMPER\",\"orientation\":\"v\",\"showlegend\":true,\"x\":[39.0],\"xaxis\":\"x\",\"y\":[101.05590617382394],\"yaxis\":\"y\",\"type\":\"scatter\"},{\"hovertemplate\":\"player=Miro<br>count=%{x}<br>mean=%{y}<extra></extra>\",\"legendgroup\":\"Miro\",\"marker\":{\"color\":\"#FECB52\",\"symbol\":\"circle\"},\"mode\":\"markers\",\"name\":\"Miro\",\"orientation\":\"v\",\"showlegend\":true,\"x\":[96.0],\"xaxis\":\"x\",\"y\":[101.21995437427056],\"yaxis\":\"y\",\"type\":\"scatter\"},{\"hovertemplate\":\"player=rOar<br>count=%{x}<br>mean=%{y}<extra></extra>\",\"legendgroup\":\"rOar\",\"marker\":{\"color\":\"#636efa\",\"symbol\":\"circle\"},\"mode\":\"markers\",\"name\":\"rOar\",\"orientation\":\"v\",\"showlegend\":true,\"x\":[73.0],\"xaxis\":\"x\",\"y\":[101.36032974074296],\"yaxis\":\"y\",\"type\":\"scatter\"},{\"hovertemplate\":\"player=DREAMER<br>count=%{x}<br>mean=%{y}<extra></extra>\",\"legendgroup\":\"DREAMER\",\"marker\":{\"color\":\"#EF553B\",\"symbol\":\"circle\"},\"mode\":\"markers\",\"name\":\"DREAMER\",\"orientation\":\"v\",\"showlegend\":true,\"x\":[51.0],\"xaxis\":\"x\",\"y\":[101.52795306924352],\"yaxis\":\"y\",\"type\":\"scatter\"},{\"hovertemplate\":\"player=FEARLESS<br>count=%{x}<br>mean=%{y}<extra></extra>\",\"legendgroup\":\"FEARLESS\",\"marker\":{\"color\":\"#00cc96\",\"symbol\":\"circle\"},\"mode\":\"markers\",\"name\":\"FEARLESS\",\"orientation\":\"v\",\"showlegend\":true,\"x\":[224.0],\"xaxis\":\"x\",\"y\":[101.5656605456618],\"yaxis\":\"y\",\"type\":\"scatter\"},{\"hovertemplate\":\"player=Fissure<br>count=%{x}<br>mean=%{y}<extra></extra>\",\"legendgroup\":\"Fissure\",\"marker\":{\"color\":\"#ab63fa\",\"symbol\":\"circle\"},\"mode\":\"markers\",\"name\":\"Fissure\",\"orientation\":\"v\",\"showlegend\":true,\"x\":[132.0],\"xaxis\":\"x\",\"y\":[101.86516200624115],\"yaxis\":\"y\",\"type\":\"scatter\"},{\"hovertemplate\":\"player=SADO<br>count=%{x}<br>mean=%{y}<extra></extra>\",\"legendgroup\":\"SADO\",\"marker\":{\"color\":\"#FFA15A\",\"symbol\":\"circle\"},\"mode\":\"markers\",\"name\":\"SADO\",\"orientation\":\"v\",\"showlegend\":true,\"x\":[181.0],\"xaxis\":\"x\",\"y\":[102.1225362337174],\"yaxis\":\"y\",\"type\":\"scatter\"},{\"hovertemplate\":\"player=Guxue<br>count=%{x}<br>mean=%{y}<extra></extra>\",\"legendgroup\":\"Guxue\",\"marker\":{\"color\":\"#19d3f3\",\"symbol\":\"circle\"},\"mode\":\"markers\",\"name\":\"Guxue\",\"orientation\":\"v\",\"showlegend\":true,\"x\":[107.0],\"xaxis\":\"x\",\"y\":[102.15887183871914],\"yaxis\":\"y\",\"type\":\"scatter\"},{\"hovertemplate\":\"player=Hydration<br>count=%{x}<br>mean=%{y}<extra></extra>\",\"legendgroup\":\"Hydration\",\"marker\":{\"color\":\"#FF6692\",\"symbol\":\"circle\"},\"mode\":\"markers\",\"name\":\"Hydration\",\"orientation\":\"v\",\"showlegend\":true,\"x\":[15.0],\"xaxis\":\"x\",\"y\":[102.15938426595156],\"yaxis\":\"y\",\"type\":\"scatter\"},{\"hovertemplate\":\"player=Fate<br>count=%{x}<br>mean=%{y}<extra></extra>\",\"legendgroup\":\"Fate\",\"marker\":{\"color\":\"#B6E880\",\"symbol\":\"circle\"},\"mode\":\"markers\",\"name\":\"Fate\",\"orientation\":\"v\",\"showlegend\":true,\"x\":[272.0],\"xaxis\":\"x\",\"y\":[102.28158525753302],\"yaxis\":\"y\",\"type\":\"scatter\"},{\"hovertemplate\":\"player=MAG<br>count=%{x}<br>mean=%{y}<extra></extra>\",\"legendgroup\":\"MAG\",\"marker\":{\"color\":\"#FF97FF\",\"symbol\":\"circle\"},\"mode\":\"markers\",\"name\":\"MAG\",\"orientation\":\"v\",\"showlegend\":true,\"x\":[41.0],\"xaxis\":\"x\",\"y\":[102.40403126864393],\"yaxis\":\"y\",\"type\":\"scatter\"},{\"hovertemplate\":\"player=Gesture<br>count=%{x}<br>mean=%{y}<extra></extra>\",\"legendgroup\":\"Gesture\",\"marker\":{\"color\":\"#FECB52\",\"symbol\":\"circle\"},\"mode\":\"markers\",\"name\":\"Gesture\",\"orientation\":\"v\",\"showlegend\":true,\"x\":[289.0],\"xaxis\":\"x\",\"y\":[102.61784834975519],\"yaxis\":\"y\",\"type\":\"scatter\"},{\"hovertemplate\":\"player=Stand1<br>count=%{x}<br>mean=%{y}<extra></extra>\",\"legendgroup\":\"Stand1\",\"marker\":{\"color\":\"#636efa\",\"symbol\":\"circle\"},\"mode\":\"markers\",\"name\":\"Stand1\",\"orientation\":\"v\",\"showlegend\":true,\"x\":[36.0],\"xaxis\":\"x\",\"y\":[102.64926622669877],\"yaxis\":\"y\",\"type\":\"scatter\"},{\"hovertemplate\":\"player=JJANGGU<br>count=%{x}<br>mean=%{y}<extra></extra>\",\"legendgroup\":\"JJANGGU\",\"marker\":{\"color\":\"#EF553B\",\"symbol\":\"circle\"},\"mode\":\"markers\",\"name\":\"JJANGGU\",\"orientation\":\"v\",\"showlegend\":true,\"x\":[18.0],\"xaxis\":\"x\",\"y\":[103.44330215451743],\"yaxis\":\"y\",\"type\":\"scatter\"},{\"hovertemplate\":\"player=smurf<br>count=%{x}<br>mean=%{y}<extra></extra>\",\"legendgroup\":\"smurf\",\"marker\":{\"color\":\"#00cc96\",\"symbol\":\"circle\"},\"mode\":\"markers\",\"name\":\"smurf\",\"orientation\":\"v\",\"showlegend\":true,\"x\":[67.0],\"xaxis\":\"x\",\"y\":[103.77125439920849],\"yaxis\":\"y\",\"type\":\"scatter\"},{\"hovertemplate\":\"player=ga9A<br>count=%{x}<br>mean=%{y}<extra></extra>\",\"legendgroup\":\"ga9A\",\"marker\":{\"color\":\"#ab63fa\",\"symbol\":\"circle\"},\"mode\":\"markers\",\"name\":\"ga9A\",\"orientation\":\"v\",\"showlegend\":true,\"x\":[37.0],\"xaxis\":\"x\",\"y\":[104.07465328006091],\"yaxis\":\"y\",\"type\":\"scatter\"},{\"hovertemplate\":\"player=Marve1<br>count=%{x}<br>mean=%{y}<extra></extra>\",\"legendgroup\":\"Marve1\",\"marker\":{\"color\":\"#FFA15A\",\"symbol\":\"circle\"},\"mode\":\"markers\",\"name\":\"Marve1\",\"orientation\":\"v\",\"showlegend\":true,\"x\":[29.0],\"xaxis\":\"x\",\"y\":[104.84095489271404],\"yaxis\":\"y\",\"type\":\"scatter\"},{\"hovertemplate\":\"player=sharyk<br>count=%{x}<br>mean=%{y}<extra></extra>\",\"legendgroup\":\"sharyk\",\"marker\":{\"color\":\"#19d3f3\",\"symbol\":\"circle\"},\"mode\":\"markers\",\"name\":\"sharyk\",\"orientation\":\"v\",\"showlegend\":true,\"x\":[2.0],\"xaxis\":\"x\",\"y\":[105.02267476666464],\"yaxis\":\"y\",\"type\":\"scatter\"},{\"hovertemplate\":\"player=Kalios<br>count=%{x}<br>mean=%{y}<extra></extra>\",\"legendgroup\":\"Kalios\",\"marker\":{\"color\":\"#FF6692\",\"symbol\":\"circle\"},\"mode\":\"markers\",\"name\":\"Kalios\",\"orientation\":\"v\",\"showlegend\":true,\"x\":[11.0],\"xaxis\":\"x\",\"y\":[106.368279011205],\"yaxis\":\"y\",\"type\":\"scatter\"},{\"hovertemplate\":\"player=MuZe<br>count=%{x}<br>mean=%{y}<extra></extra>\",\"legendgroup\":\"MuZe\",\"marker\":{\"color\":\"#B6E880\",\"symbol\":\"circle\"},\"mode\":\"markers\",\"name\":\"MuZe\",\"orientation\":\"v\",\"showlegend\":true,\"x\":[43.0],\"xaxis\":\"x\",\"y\":[106.88368189445073],\"yaxis\":\"y\",\"type\":\"scatter\"},{\"hovertemplate\":\"player=Karayan<br>count=%{x}<br>mean=%{y}<extra></extra>\",\"legendgroup\":\"Karayan\",\"marker\":{\"color\":\"#FF97FF\",\"symbol\":\"circle\"},\"mode\":\"markers\",\"name\":\"Karayan\",\"orientation\":\"v\",\"showlegend\":true,\"x\":[2.0],\"xaxis\":\"x\",\"y\":[115.4598367676986],\"yaxis\":\"y\",\"type\":\"scatter\"}],                        {\"template\":{\"data\":{\"histogram2dcontour\":[{\"type\":\"histogram2dcontour\",\"colorbar\":{\"outlinewidth\":0,\"ticks\":\"\"},\"colorscale\":[[0.0,\"#0d0887\"],[0.1111111111111111,\"#46039f\"],[0.2222222222222222,\"#7201a8\"],[0.3333333333333333,\"#9c179e\"],[0.4444444444444444,\"#bd3786\"],[0.5555555555555556,\"#d8576b\"],[0.6666666666666666,\"#ed7953\"],[0.7777777777777778,\"#fb9f3a\"],[0.8888888888888888,\"#fdca26\"],[1.0,\"#f0f921\"]]}],\"choropleth\":[{\"type\":\"choropleth\",\"colorbar\":{\"outlinewidth\":0,\"ticks\":\"\"}}],\"histogram2d\":[{\"type\":\"histogram2d\",\"colorbar\":{\"outlinewidth\":0,\"ticks\":\"\"},\"colorscale\":[[0.0,\"#0d0887\"],[0.1111111111111111,\"#46039f\"],[0.2222222222222222,\"#7201a8\"],[0.3333333333333333,\"#9c179e\"],[0.4444444444444444,\"#bd3786\"],[0.5555555555555556,\"#d8576b\"],[0.6666666666666666,\"#ed7953\"],[0.7777777777777778,\"#fb9f3a\"],[0.8888888888888888,\"#fdca26\"],[1.0,\"#f0f921\"]]}],\"heatmap\":[{\"type\":\"heatmap\",\"colorbar\":{\"outlinewidth\":0,\"ticks\":\"\"},\"colorscale\":[[0.0,\"#0d0887\"],[0.1111111111111111,\"#46039f\"],[0.2222222222222222,\"#7201a8\"],[0.3333333333333333,\"#9c179e\"],[0.4444444444444444,\"#bd3786\"],[0.5555555555555556,\"#d8576b\"],[0.6666666666666666,\"#ed7953\"],[0.7777777777777778,\"#fb9f3a\"],[0.8888888888888888,\"#fdca26\"],[1.0,\"#f0f921\"]]}],\"heatmapgl\":[{\"type\":\"heatmapgl\",\"colorbar\":{\"outlinewidth\":0,\"ticks\":\"\"},\"colorscale\":[[0.0,\"#0d0887\"],[0.1111111111111111,\"#46039f\"],[0.2222222222222222,\"#7201a8\"],[0.3333333333333333,\"#9c179e\"],[0.4444444444444444,\"#bd3786\"],[0.5555555555555556,\"#d8576b\"],[0.6666666666666666,\"#ed7953\"],[0.7777777777777778,\"#fb9f3a\"],[0.8888888888888888,\"#fdca26\"],[1.0,\"#f0f921\"]]}],\"contourcarpet\":[{\"type\":\"contourcarpet\",\"colorbar\":{\"outlinewidth\":0,\"ticks\":\"\"}}],\"contour\":[{\"type\":\"contour\",\"colorbar\":{\"outlinewidth\":0,\"ticks\":\"\"},\"colorscale\":[[0.0,\"#0d0887\"],[0.1111111111111111,\"#46039f\"],[0.2222222222222222,\"#7201a8\"],[0.3333333333333333,\"#9c179e\"],[0.4444444444444444,\"#bd3786\"],[0.5555555555555556,\"#d8576b\"],[0.6666666666666666,\"#ed7953\"],[0.7777777777777778,\"#fb9f3a\"],[0.8888888888888888,\"#fdca26\"],[1.0,\"#f0f921\"]]}],\"surface\":[{\"type\":\"surface\",\"colorbar\":{\"outlinewidth\":0,\"ticks\":\"\"},\"colorscale\":[[0.0,\"#0d0887\"],[0.1111111111111111,\"#46039f\"],[0.2222222222222222,\"#7201a8\"],[0.3333333333333333,\"#9c179e\"],[0.4444444444444444,\"#bd3786\"],[0.5555555555555556,\"#d8576b\"],[0.6666666666666666,\"#ed7953\"],[0.7777777777777778,\"#fb9f3a\"],[0.8888888888888888,\"#fdca26\"],[1.0,\"#f0f921\"]]}],\"mesh3d\":[{\"type\":\"mesh3d\",\"colorbar\":{\"outlinewidth\":0,\"ticks\":\"\"}}],\"scatter\":[{\"fillpattern\":{\"fillmode\":\"overlay\",\"size\":10,\"solidity\":0.2},\"type\":\"scatter\"}],\"parcoords\":[{\"type\":\"parcoords\",\"line\":{\"colorbar\":{\"outlinewidth\":0,\"ticks\":\"\"}}}],\"scatterpolargl\":[{\"type\":\"scatterpolargl\",\"marker\":{\"colorbar\":{\"outlinewidth\":0,\"ticks\":\"\"}}}],\"bar\":[{\"error_x\":{\"color\":\"#2a3f5f\"},\"error_y\":{\"color\":\"#2a3f5f\"},\"marker\":{\"line\":{\"color\":\"#E5ECF6\",\"width\":0.5},\"pattern\":{\"fillmode\":\"overlay\",\"size\":10,\"solidity\":0.2}},\"type\":\"bar\"}],\"scattergeo\":[{\"type\":\"scattergeo\",\"marker\":{\"colorbar\":{\"outlinewidth\":0,\"ticks\":\"\"}}}],\"scatterpolar\":[{\"type\":\"scatterpolar\",\"marker\":{\"colorbar\":{\"outlinewidth\":0,\"ticks\":\"\"}}}],\"histogram\":[{\"marker\":{\"pattern\":{\"fillmode\":\"overlay\",\"size\":10,\"solidity\":0.2}},\"type\":\"histogram\"}],\"scattergl\":[{\"type\":\"scattergl\",\"marker\":{\"colorbar\":{\"outlinewidth\":0,\"ticks\":\"\"}}}],\"scatter3d\":[{\"type\":\"scatter3d\",\"line\":{\"colorbar\":{\"outlinewidth\":0,\"ticks\":\"\"}},\"marker\":{\"colorbar\":{\"outlinewidth\":0,\"ticks\":\"\"}}}],\"scattermapbox\":[{\"type\":\"scattermapbox\",\"marker\":{\"colorbar\":{\"outlinewidth\":0,\"ticks\":\"\"}}}],\"scatterternary\":[{\"type\":\"scatterternary\",\"marker\":{\"colorbar\":{\"outlinewidth\":0,\"ticks\":\"\"}}}],\"scattercarpet\":[{\"type\":\"scattercarpet\",\"marker\":{\"colorbar\":{\"outlinewidth\":0,\"ticks\":\"\"}}}],\"carpet\":[{\"aaxis\":{\"endlinecolor\":\"#2a3f5f\",\"gridcolor\":\"white\",\"linecolor\":\"white\",\"minorgridcolor\":\"white\",\"startlinecolor\":\"#2a3f5f\"},\"baxis\":{\"endlinecolor\":\"#2a3f5f\",\"gridcolor\":\"white\",\"linecolor\":\"white\",\"minorgridcolor\":\"white\",\"startlinecolor\":\"#2a3f5f\"},\"type\":\"carpet\"}],\"table\":[{\"cells\":{\"fill\":{\"color\":\"#EBF0F8\"},\"line\":{\"color\":\"white\"}},\"header\":{\"fill\":{\"color\":\"#C8D4E3\"},\"line\":{\"color\":\"white\"}},\"type\":\"table\"}],\"barpolar\":[{\"marker\":{\"line\":{\"color\":\"#E5ECF6\",\"width\":0.5},\"pattern\":{\"fillmode\":\"overlay\",\"size\":10,\"solidity\":0.2}},\"type\":\"barpolar\"}],\"pie\":[{\"automargin\":true,\"type\":\"pie\"}]},\"layout\":{\"autotypenumbers\":\"strict\",\"colorway\":[\"#636efa\",\"#EF553B\",\"#00cc96\",\"#ab63fa\",\"#FFA15A\",\"#19d3f3\",\"#FF6692\",\"#B6E880\",\"#FF97FF\",\"#FECB52\"],\"font\":{\"color\":\"#2a3f5f\"},\"hovermode\":\"closest\",\"hoverlabel\":{\"align\":\"left\"},\"paper_bgcolor\":\"white\",\"plot_bgcolor\":\"#E5ECF6\",\"polar\":{\"bgcolor\":\"#E5ECF6\",\"angularaxis\":{\"gridcolor\":\"white\",\"linecolor\":\"white\",\"ticks\":\"\"},\"radialaxis\":{\"gridcolor\":\"white\",\"linecolor\":\"white\",\"ticks\":\"\"}},\"ternary\":{\"bgcolor\":\"#E5ECF6\",\"aaxis\":{\"gridcolor\":\"white\",\"linecolor\":\"white\",\"ticks\":\"\"},\"baxis\":{\"gridcolor\":\"white\",\"linecolor\":\"white\",\"ticks\":\"\"},\"caxis\":{\"gridcolor\":\"white\",\"linecolor\":\"white\",\"ticks\":\"\"}},\"coloraxis\":{\"colorbar\":{\"outlinewidth\":0,\"ticks\":\"\"}},\"colorscale\":{\"sequential\":[[0.0,\"#0d0887\"],[0.1111111111111111,\"#46039f\"],[0.2222222222222222,\"#7201a8\"],[0.3333333333333333,\"#9c179e\"],[0.4444444444444444,\"#bd3786\"],[0.5555555555555556,\"#d8576b\"],[0.6666666666666666,\"#ed7953\"],[0.7777777777777778,\"#fb9f3a\"],[0.8888888888888888,\"#fdca26\"],[1.0,\"#f0f921\"]],\"sequentialminus\":[[0.0,\"#0d0887\"],[0.1111111111111111,\"#46039f\"],[0.2222222222222222,\"#7201a8\"],[0.3333333333333333,\"#9c179e\"],[0.4444444444444444,\"#bd3786\"],[0.5555555555555556,\"#d8576b\"],[0.6666666666666666,\"#ed7953\"],[0.7777777777777778,\"#fb9f3a\"],[0.8888888888888888,\"#fdca26\"],[1.0,\"#f0f921\"]],\"diverging\":[[0,\"#8e0152\"],[0.1,\"#c51b7d\"],[0.2,\"#de77ae\"],[0.3,\"#f1b6da\"],[0.4,\"#fde0ef\"],[0.5,\"#f7f7f7\"],[0.6,\"#e6f5d0\"],[0.7,\"#b8e186\"],[0.8,\"#7fbc41\"],[0.9,\"#4d9221\"],[1,\"#276419\"]]},\"xaxis\":{\"gridcolor\":\"white\",\"linecolor\":\"white\",\"ticks\":\"\",\"title\":{\"standoff\":15},\"zerolinecolor\":\"white\",\"automargin\":true,\"zerolinewidth\":2},\"yaxis\":{\"gridcolor\":\"white\",\"linecolor\":\"white\",\"ticks\":\"\",\"title\":{\"standoff\":15},\"zerolinecolor\":\"white\",\"automargin\":true,\"zerolinewidth\":2},\"scene\":{\"xaxis\":{\"backgroundcolor\":\"#E5ECF6\",\"gridcolor\":\"white\",\"linecolor\":\"white\",\"showbackground\":true,\"ticks\":\"\",\"zerolinecolor\":\"white\",\"gridwidth\":2},\"yaxis\":{\"backgroundcolor\":\"#E5ECF6\",\"gridcolor\":\"white\",\"linecolor\":\"white\",\"showbackground\":true,\"ticks\":\"\",\"zerolinecolor\":\"white\",\"gridwidth\":2},\"zaxis\":{\"backgroundcolor\":\"#E5ECF6\",\"gridcolor\":\"white\",\"linecolor\":\"white\",\"showbackground\":true,\"ticks\":\"\",\"zerolinecolor\":\"white\",\"gridwidth\":2}},\"shapedefaults\":{\"line\":{\"color\":\"#2a3f5f\"}},\"annotationdefaults\":{\"arrowcolor\":\"#2a3f5f\",\"arrowhead\":0,\"arrowwidth\":1},\"geo\":{\"bgcolor\":\"white\",\"landcolor\":\"#E5ECF6\",\"subunitcolor\":\"white\",\"showland\":true,\"showlakes\":true,\"lakecolor\":\"white\"},\"title\":{\"x\":0.05},\"mapbox\":{\"style\":\"light\"}}},\"xaxis\":{\"anchor\":\"y\",\"domain\":[0.0,1.0],\"title\":{\"text\":\"count\"}},\"yaxis\":{\"anchor\":\"x\",\"domain\":[0.0,1.0],\"title\":{\"text\":\"mean\"}},\"legend\":{\"title\":{\"text\":\"player\"},\"tracegroupgap\":0},\"margin\":{\"t\":60}},                        {\"responsive\": true}                    ).then(function(){\n",
       "                            \n",
       "var gd = document.getElementById('b6cf9159-6e8f-41b9-8a5a-1fe9a2102c7f');\n",
       "var x = new MutationObserver(function (mutations, observer) {{\n",
       "        var display = window.getComputedStyle(gd).display;\n",
       "        if (!display || display === 'none') {{\n",
       "            console.log([gd, 'removed!']);\n",
       "            Plotly.purge(gd);\n",
       "            observer.disconnect();\n",
       "        }}\n",
       "}});\n",
       "\n",
       "// Listen for the removal of the full notebook cells\n",
       "var notebookContainer = gd.closest('#notebook-container');\n",
       "if (notebookContainer) {{\n",
       "    x.observe(notebookContainer, {childList: true});\n",
       "}}\n",
       "\n",
       "// Listen for the clearing of the current output cell\n",
       "var outputEl = gd.closest('.output');\n",
       "if (outputEl) {{\n",
       "    x.observe(outputEl, {childList: true});\n",
       "}}\n",
       "\n",
       "                        })                };                });            </script>        </div>"
      ]
     },
     "metadata": {},
     "output_type": "display_data"
    }
   ],
   "source": [
    "fig2 = px.scatter(winston, x=winston['count'], y=winston['mean'], color=winston['player'])\n",
    "fig2.show()"
   ]
  },
  {
   "cell_type": "code",
   "execution_count": 223,
   "id": "6ecbd159-28c0-4049-b44e-291812ff57d2",
   "metadata": {
    "tags": []
   },
   "outputs": [
    {
     "data": {
      "application/vnd.plotly.v1+json": {
       "config": {
        "plotlyServerURL": "https://plot.ly"
       },
       "data": [
        {
         "alignmentgroup": "True",
         "hovertemplate": "color=Playoffs<br>hero=%{x}<br>Stat=%{y}<extra></extra>",
         "legendgroup": "Playoffs",
         "marker": {
          "color": "#636efa",
          "pattern": {
           "shape": ""
          }
         },
         "name": "Playoffs",
         "offsetgroup": "Playoffs",
         "orientation": "v",
         "showlegend": true,
         "textposition": "auto",
         "type": "bar",
         "x": [
          "Brigitte",
          "Genji",
          "Hanzo",
          "Junkrat",
          "Pharah",
          "Tracer",
          "Genji",
          "Junkrat",
          "Tracer",
          "Genji",
          "Junkrat",
          "Tracer",
          "Zarya",
          "Mei",
          "Pharah",
          "Reaper",
          "McCree",
          "Mei",
          "Pharah",
          "Reaper",
          "Tracer",
          "Zarya",
          "Ashe",
          "Genji",
          "Hanzo",
          "Pharah",
          "Reaper",
          "Tracer",
          "Genji",
          "Mei",
          "Reaper",
          "Tracer",
          "Echo",
          "Mei",
          "Torbjörn",
          "Tracer",
          "Echo",
          "Genji",
          "Mei",
          "Genji",
          "Mei",
          "Pharah",
          "Soldier: 76",
          "Tracer",
          "Echo",
          "Mei",
          "Tracer",
          "Echo",
          "Hanzo",
          "Mei",
          "Echo",
          "Mei",
          "Torbjörn",
          "Tracer"
         ],
         "xaxis": "x",
         "y": [
          115.78430463682614,
          108.56009552101196,
          100.75840929928503,
          103.99888354266932,
          105.77218567005697,
          103.69294094796541,
          91.47269061041094,
          111.33106955019312,
          104.30777775551897,
          92.29173524583835,
          93.46213764623042,
          92.27238306171762,
          104.2514049540148,
          104.29109108905023,
          97.61673501172241,
          103.7567138492558,
          87.75265669978491,
          148.52271084046828,
          100.6021748278641,
          103.49824692016989,
          110.25412946831304,
          88.93142370499096,
          106.08204186975411,
          99.19791080189958,
          99.89216230460391,
          103.98069875905315,
          101.13929798340492,
          99.73443988132864,
          114.28155586374774,
          96.12773975781387,
          99.47183692003296,
          100.64166652152497,
          98.78143078794518,
          98.54981811316372,
          108.21508087278775,
          104.10335637167493,
          102.97962815928076,
          109.37943417649875,
          94.47013369749564,
          110.35817404267296,
          99.92701359207706,
          101.17606649708203,
          102.59772749436472,
          97.12022694422116,
          93.66359414765921,
          76.78199399087006,
          100.87475471075493,
          97.89921588953177,
          124.79797871810727,
          104.59853901336912,
          97.39915583889407,
          92.10122988022862,
          105.38894787667212,
          97.41259903013749
         ],
         "yaxis": "y"
        },
        {
         "alignmentgroup": "True",
         "hovertemplate": "color=Regular Season<br>hero=%{x}<br>Stat=%{y}<extra></extra>",
         "legendgroup": "Regular Season",
         "marker": {
          "color": "#EF553B",
          "pattern": {
           "shape": ""
          }
         },
         "name": "Regular Season",
         "offsetgroup": "Regular Season",
         "orientation": "v",
         "showlegend": true,
         "textposition": "auto",
         "type": "bar",
         "x": [
          "Genji",
          "Junkrat",
          "Pharah",
          "Reaper",
          "Tracer",
          "Genji",
          "Junkrat",
          "McCree",
          "Soldier: 76",
          "Tracer",
          "Zarya",
          "Genji",
          "Junkrat",
          "McCree",
          "Roadhog",
          "Sombra",
          "Tracer",
          "Zarya",
          "Brigitte",
          "Genji",
          "Hanzo",
          "Junkrat",
          "Pharah",
          "Tracer",
          "Zarya",
          "Brigitte",
          "Pharah",
          "Tracer",
          "Zarya",
          "Hanzo",
          "Pharah",
          "Sombra",
          "Zarya",
          "Hanzo",
          "Sombra",
          "Zarya",
          "Doomfist",
          "Genji",
          "Hanzo",
          "Mei",
          "Reaper",
          "Tracer",
          "Ashe",
          "Genji",
          "Hanzo",
          "Pharah",
          "Tracer",
          "Ashe",
          "Echo",
          "Genji",
          "McCree",
          "Mei",
          "Pharah",
          "Reaper",
          "Sombra",
          "Torbjörn",
          "Tracer",
          "Widowmaker",
          "Zarya",
          "Genji",
          "Hanzo",
          "Mei",
          "Pharah",
          "Soldier: 76",
          "Torbjörn",
          "Tracer",
          "Echo",
          "McCree",
          "Mei",
          "Reaper",
          "Soldier: 76",
          "Echo",
          "Genji",
          "Mei",
          "Pharah",
          "Tracer",
          "Echo",
          "McCree",
          "Mei",
          "Tracer"
         ],
         "xaxis": "x",
         "y": [
          104.54118999486688,
          106.54955952801708,
          85.9473915331783,
          107.61900798138228,
          110.08244282124461,
          97.27992975985568,
          100.65165433677532,
          125.27892520183067,
          106.30319501400164,
          106.88908746667582,
          111.1904356751541,
          106.54168434675924,
          101.98370937776828,
          93.60447054644996,
          104.19679120895444,
          97.4777659889392,
          101.98448994643195,
          94.7167396280096,
          103.21687598470693,
          93.9958086700787,
          95.19024085119449,
          100.24920253843982,
          103.03171181282491,
          96.1131383242403,
          85.67296164188869,
          102.513554925631,
          108.31123178587552,
          99.92243268138024,
          102.12580040130322,
          111.33566017043503,
          103.65257892894687,
          106.0904196681525,
          109.31790333985144,
          103.16209107593082,
          98.14608749103458,
          102.35754297388767,
          89.83816960904682,
          96.15167585795749,
          104.75826784914474,
          99.06078067952575,
          103.8770546541946,
          101.87839808760812,
          106.80126691661351,
          110.3327999202248,
          99.81160859034118,
          103.27276341172994,
          100.16969732809098,
          100.03686120446444,
          92.43670578814537,
          97.13257890603646,
          81.98358288214516,
          100.53898819306451,
          111.50113507392848,
          106.87162621661632,
          95.54457609293284,
          98.2075911590478,
          99.74773544658996,
          89.60265436678782,
          93.57409144611988,
          112.05361660975696,
          86.83052034651384,
          80.18542223696645,
          91.0301967961744,
          100.05588997740938,
          99.23388918616664,
          98.90502440103201,
          107.46306599540313,
          113.11111846701817,
          112.24580081200222,
          98.42041742386168,
          111.27550137635114,
          111.189085476726,
          101.10241342834684,
          109.01704637395326,
          103.94416122534804,
          103.11321161090252,
          115.81497095473306,
          102.8783863866236,
          102.19017020926155,
          94.76038499604424
         ],
         "yaxis": "y"
        }
       ],
       "layout": {
        "autosize": true,
        "barmode": "group",
        "legend": {
         "title": {
          "text": "color"
         },
         "tracegroupgap": 0
        },
        "margin": {
         "t": 60
        },
        "template": {
         "data": {
          "bar": [
           {
            "error_x": {
             "color": "#2a3f5f"
            },
            "error_y": {
             "color": "#2a3f5f"
            },
            "marker": {
             "line": {
              "color": "#E5ECF6",
              "width": 0.5
             },
             "pattern": {
              "fillmode": "overlay",
              "size": 10,
              "solidity": 0.2
             }
            },
            "type": "bar"
           }
          ],
          "barpolar": [
           {
            "marker": {
             "line": {
              "color": "#E5ECF6",
              "width": 0.5
             },
             "pattern": {
              "fillmode": "overlay",
              "size": 10,
              "solidity": 0.2
             }
            },
            "type": "barpolar"
           }
          ],
          "carpet": [
           {
            "aaxis": {
             "endlinecolor": "#2a3f5f",
             "gridcolor": "white",
             "linecolor": "white",
             "minorgridcolor": "white",
             "startlinecolor": "#2a3f5f"
            },
            "baxis": {
             "endlinecolor": "#2a3f5f",
             "gridcolor": "white",
             "linecolor": "white",
             "minorgridcolor": "white",
             "startlinecolor": "#2a3f5f"
            },
            "type": "carpet"
           }
          ],
          "choropleth": [
           {
            "colorbar": {
             "outlinewidth": 0,
             "ticks": ""
            },
            "type": "choropleth"
           }
          ],
          "contour": [
           {
            "colorbar": {
             "outlinewidth": 0,
             "ticks": ""
            },
            "colorscale": [
             [
              0,
              "#0d0887"
             ],
             [
              0.1111111111111111,
              "#46039f"
             ],
             [
              0.2222222222222222,
              "#7201a8"
             ],
             [
              0.3333333333333333,
              "#9c179e"
             ],
             [
              0.4444444444444444,
              "#bd3786"
             ],
             [
              0.5555555555555556,
              "#d8576b"
             ],
             [
              0.6666666666666666,
              "#ed7953"
             ],
             [
              0.7777777777777778,
              "#fb9f3a"
             ],
             [
              0.8888888888888888,
              "#fdca26"
             ],
             [
              1,
              "#f0f921"
             ]
            ],
            "type": "contour"
           }
          ],
          "contourcarpet": [
           {
            "colorbar": {
             "outlinewidth": 0,
             "ticks": ""
            },
            "type": "contourcarpet"
           }
          ],
          "heatmap": [
           {
            "colorbar": {
             "outlinewidth": 0,
             "ticks": ""
            },
            "colorscale": [
             [
              0,
              "#0d0887"
             ],
             [
              0.1111111111111111,
              "#46039f"
             ],
             [
              0.2222222222222222,
              "#7201a8"
             ],
             [
              0.3333333333333333,
              "#9c179e"
             ],
             [
              0.4444444444444444,
              "#bd3786"
             ],
             [
              0.5555555555555556,
              "#d8576b"
             ],
             [
              0.6666666666666666,
              "#ed7953"
             ],
             [
              0.7777777777777778,
              "#fb9f3a"
             ],
             [
              0.8888888888888888,
              "#fdca26"
             ],
             [
              1,
              "#f0f921"
             ]
            ],
            "type": "heatmap"
           }
          ],
          "heatmapgl": [
           {
            "colorbar": {
             "outlinewidth": 0,
             "ticks": ""
            },
            "colorscale": [
             [
              0,
              "#0d0887"
             ],
             [
              0.1111111111111111,
              "#46039f"
             ],
             [
              0.2222222222222222,
              "#7201a8"
             ],
             [
              0.3333333333333333,
              "#9c179e"
             ],
             [
              0.4444444444444444,
              "#bd3786"
             ],
             [
              0.5555555555555556,
              "#d8576b"
             ],
             [
              0.6666666666666666,
              "#ed7953"
             ],
             [
              0.7777777777777778,
              "#fb9f3a"
             ],
             [
              0.8888888888888888,
              "#fdca26"
             ],
             [
              1,
              "#f0f921"
             ]
            ],
            "type": "heatmapgl"
           }
          ],
          "histogram": [
           {
            "marker": {
             "pattern": {
              "fillmode": "overlay",
              "size": 10,
              "solidity": 0.2
             }
            },
            "type": "histogram"
           }
          ],
          "histogram2d": [
           {
            "colorbar": {
             "outlinewidth": 0,
             "ticks": ""
            },
            "colorscale": [
             [
              0,
              "#0d0887"
             ],
             [
              0.1111111111111111,
              "#46039f"
             ],
             [
              0.2222222222222222,
              "#7201a8"
             ],
             [
              0.3333333333333333,
              "#9c179e"
             ],
             [
              0.4444444444444444,
              "#bd3786"
             ],
             [
              0.5555555555555556,
              "#d8576b"
             ],
             [
              0.6666666666666666,
              "#ed7953"
             ],
             [
              0.7777777777777778,
              "#fb9f3a"
             ],
             [
              0.8888888888888888,
              "#fdca26"
             ],
             [
              1,
              "#f0f921"
             ]
            ],
            "type": "histogram2d"
           }
          ],
          "histogram2dcontour": [
           {
            "colorbar": {
             "outlinewidth": 0,
             "ticks": ""
            },
            "colorscale": [
             [
              0,
              "#0d0887"
             ],
             [
              0.1111111111111111,
              "#46039f"
             ],
             [
              0.2222222222222222,
              "#7201a8"
             ],
             [
              0.3333333333333333,
              "#9c179e"
             ],
             [
              0.4444444444444444,
              "#bd3786"
             ],
             [
              0.5555555555555556,
              "#d8576b"
             ],
             [
              0.6666666666666666,
              "#ed7953"
             ],
             [
              0.7777777777777778,
              "#fb9f3a"
             ],
             [
              0.8888888888888888,
              "#fdca26"
             ],
             [
              1,
              "#f0f921"
             ]
            ],
            "type": "histogram2dcontour"
           }
          ],
          "mesh3d": [
           {
            "colorbar": {
             "outlinewidth": 0,
             "ticks": ""
            },
            "type": "mesh3d"
           }
          ],
          "parcoords": [
           {
            "line": {
             "colorbar": {
              "outlinewidth": 0,
              "ticks": ""
             }
            },
            "type": "parcoords"
           }
          ],
          "pie": [
           {
            "automargin": true,
            "type": "pie"
           }
          ],
          "scatter": [
           {
            "fillpattern": {
             "fillmode": "overlay",
             "size": 10,
             "solidity": 0.2
            },
            "type": "scatter"
           }
          ],
          "scatter3d": [
           {
            "line": {
             "colorbar": {
              "outlinewidth": 0,
              "ticks": ""
             }
            },
            "marker": {
             "colorbar": {
              "outlinewidth": 0,
              "ticks": ""
             }
            },
            "type": "scatter3d"
           }
          ],
          "scattercarpet": [
           {
            "marker": {
             "colorbar": {
              "outlinewidth": 0,
              "ticks": ""
             }
            },
            "type": "scattercarpet"
           }
          ],
          "scattergeo": [
           {
            "marker": {
             "colorbar": {
              "outlinewidth": 0,
              "ticks": ""
             }
            },
            "type": "scattergeo"
           }
          ],
          "scattergl": [
           {
            "marker": {
             "colorbar": {
              "outlinewidth": 0,
              "ticks": ""
             }
            },
            "type": "scattergl"
           }
          ],
          "scattermapbox": [
           {
            "marker": {
             "colorbar": {
              "outlinewidth": 0,
              "ticks": ""
             }
            },
            "type": "scattermapbox"
           }
          ],
          "scatterpolar": [
           {
            "marker": {
             "colorbar": {
              "outlinewidth": 0,
              "ticks": ""
             }
            },
            "type": "scatterpolar"
           }
          ],
          "scatterpolargl": [
           {
            "marker": {
             "colorbar": {
              "outlinewidth": 0,
              "ticks": ""
             }
            },
            "type": "scatterpolargl"
           }
          ],
          "scatterternary": [
           {
            "marker": {
             "colorbar": {
              "outlinewidth": 0,
              "ticks": ""
             }
            },
            "type": "scatterternary"
           }
          ],
          "surface": [
           {
            "colorbar": {
             "outlinewidth": 0,
             "ticks": ""
            },
            "colorscale": [
             [
              0,
              "#0d0887"
             ],
             [
              0.1111111111111111,
              "#46039f"
             ],
             [
              0.2222222222222222,
              "#7201a8"
             ],
             [
              0.3333333333333333,
              "#9c179e"
             ],
             [
              0.4444444444444444,
              "#bd3786"
             ],
             [
              0.5555555555555556,
              "#d8576b"
             ],
             [
              0.6666666666666666,
              "#ed7953"
             ],
             [
              0.7777777777777778,
              "#fb9f3a"
             ],
             [
              0.8888888888888888,
              "#fdca26"
             ],
             [
              1,
              "#f0f921"
             ]
            ],
            "type": "surface"
           }
          ],
          "table": [
           {
            "cells": {
             "fill": {
              "color": "#EBF0F8"
             },
             "line": {
              "color": "white"
             }
            },
            "header": {
             "fill": {
              "color": "#C8D4E3"
             },
             "line": {
              "color": "white"
             }
            },
            "type": "table"
           }
          ]
         },
         "layout": {
          "annotationdefaults": {
           "arrowcolor": "#2a3f5f",
           "arrowhead": 0,
           "arrowwidth": 1
          },
          "autotypenumbers": "strict",
          "coloraxis": {
           "colorbar": {
            "outlinewidth": 0,
            "ticks": ""
           }
          },
          "colorscale": {
           "diverging": [
            [
             0,
             "#8e0152"
            ],
            [
             0.1,
             "#c51b7d"
            ],
            [
             0.2,
             "#de77ae"
            ],
            [
             0.3,
             "#f1b6da"
            ],
            [
             0.4,
             "#fde0ef"
            ],
            [
             0.5,
             "#f7f7f7"
            ],
            [
             0.6,
             "#e6f5d0"
            ],
            [
             0.7,
             "#b8e186"
            ],
            [
             0.8,
             "#7fbc41"
            ],
            [
             0.9,
             "#4d9221"
            ],
            [
             1,
             "#276419"
            ]
           ],
           "sequential": [
            [
             0,
             "#0d0887"
            ],
            [
             0.1111111111111111,
             "#46039f"
            ],
            [
             0.2222222222222222,
             "#7201a8"
            ],
            [
             0.3333333333333333,
             "#9c179e"
            ],
            [
             0.4444444444444444,
             "#bd3786"
            ],
            [
             0.5555555555555556,
             "#d8576b"
            ],
            [
             0.6666666666666666,
             "#ed7953"
            ],
            [
             0.7777777777777778,
             "#fb9f3a"
            ],
            [
             0.8888888888888888,
             "#fdca26"
            ],
            [
             1,
             "#f0f921"
            ]
           ],
           "sequentialminus": [
            [
             0,
             "#0d0887"
            ],
            [
             0.1111111111111111,
             "#46039f"
            ],
            [
             0.2222222222222222,
             "#7201a8"
            ],
            [
             0.3333333333333333,
             "#9c179e"
            ],
            [
             0.4444444444444444,
             "#bd3786"
            ],
            [
             0.5555555555555556,
             "#d8576b"
            ],
            [
             0.6666666666666666,
             "#ed7953"
            ],
            [
             0.7777777777777778,
             "#fb9f3a"
            ],
            [
             0.8888888888888888,
             "#fdca26"
            ],
            [
             1,
             "#f0f921"
            ]
           ]
          },
          "colorway": [
           "#636efa",
           "#EF553B",
           "#00cc96",
           "#ab63fa",
           "#FFA15A",
           "#19d3f3",
           "#FF6692",
           "#B6E880",
           "#FF97FF",
           "#FECB52"
          ],
          "font": {
           "color": "#2a3f5f"
          },
          "geo": {
           "bgcolor": "white",
           "lakecolor": "white",
           "landcolor": "#E5ECF6",
           "showlakes": true,
           "showland": true,
           "subunitcolor": "white"
          },
          "hoverlabel": {
           "align": "left"
          },
          "hovermode": "closest",
          "mapbox": {
           "style": "light"
          },
          "paper_bgcolor": "white",
          "plot_bgcolor": "#E5ECF6",
          "polar": {
           "angularaxis": {
            "gridcolor": "white",
            "linecolor": "white",
            "ticks": ""
           },
           "bgcolor": "#E5ECF6",
           "radialaxis": {
            "gridcolor": "white",
            "linecolor": "white",
            "ticks": ""
           }
          },
          "scene": {
           "xaxis": {
            "backgroundcolor": "#E5ECF6",
            "gridcolor": "white",
            "gridwidth": 2,
            "linecolor": "white",
            "showbackground": true,
            "ticks": "",
            "zerolinecolor": "white"
           },
           "yaxis": {
            "backgroundcolor": "#E5ECF6",
            "gridcolor": "white",
            "gridwidth": 2,
            "linecolor": "white",
            "showbackground": true,
            "ticks": "",
            "zerolinecolor": "white"
           },
           "zaxis": {
            "backgroundcolor": "#E5ECF6",
            "gridcolor": "white",
            "gridwidth": 2,
            "linecolor": "white",
            "showbackground": true,
            "ticks": "",
            "zerolinecolor": "white"
           }
          },
          "shapedefaults": {
           "line": {
            "color": "#2a3f5f"
           }
          },
          "ternary": {
           "aaxis": {
            "gridcolor": "white",
            "linecolor": "white",
            "ticks": ""
           },
           "baxis": {
            "gridcolor": "white",
            "linecolor": "white",
            "ticks": ""
           },
           "bgcolor": "#E5ECF6",
           "caxis": {
            "gridcolor": "white",
            "linecolor": "white",
            "ticks": ""
           }
          },
          "title": {
           "x": 0.05
          },
          "xaxis": {
           "automargin": true,
           "gridcolor": "white",
           "linecolor": "white",
           "ticks": "",
           "title": {
            "standoff": 15
           },
           "zerolinecolor": "white",
           "zerolinewidth": 2
          },
          "yaxis": {
           "automargin": true,
           "gridcolor": "white",
           "linecolor": "white",
           "ticks": "",
           "title": {
            "standoff": 15
           },
           "zerolinecolor": "white",
           "zerolinewidth": 2
          }
         }
        },
        "xaxis": {
         "anchor": "y",
         "autorange": true,
         "domain": [
          0,
          1
         ],
         "range": [
          -0.5,
          17.5
         ],
         "title": {
          "text": "hero"
         },
         "type": "category"
        },
        "yaxis": {
         "anchor": "x",
         "autorange": true,
         "domain": [
          0,
          1
         ],
         "range": [
          0,
          1172.174782221306
         ],
         "title": {
          "text": "Stat"
         },
         "type": "linear"
        }
       }
      },
      "image/png": "[encoded data removed]",
      "text/html": [
       "<div>                            <div id=\"43efa390-74da-4683-90fd-84e96a52e6d8\" class=\"plotly-graph-div\" style=\"height:525px; width:100%;\"></div>            <script type=\"text/javascript\">                require([\"plotly\"], function(Plotly) {                    window.PLOTLYENV=window.PLOTLYENV || {};                                    if (document.getElementById(\"43efa390-74da-4683-90fd-84e96a52e6d8\")) {                    Plotly.newPlot(                        \"43efa390-74da-4683-90fd-84e96a52e6d8\",                        [{\"alignmentgroup\":\"True\",\"hovertemplate\":\"color=Playoffs<br>hero=%{x}<br>Stat=%{y}<extra></extra>\",\"legendgroup\":\"Playoffs\",\"marker\":{\"color\":\"#636efa\",\"pattern\":{\"shape\":\"\"}},\"name\":\"Playoffs\",\"offsetgroup\":\"Playoffs\",\"orientation\":\"v\",\"showlegend\":true,\"textposition\":\"auto\",\"x\":[\"Brigitte\",\"Genji\",\"Hanzo\",\"Junkrat\",\"Pharah\",\"Tracer\",\"Genji\",\"Junkrat\",\"Tracer\",\"Genji\",\"Junkrat\",\"Tracer\",\"Zarya\",\"Mei\",\"Pharah\",\"Reaper\",\"McCree\",\"Mei\",\"Pharah\",\"Reaper\",\"Tracer\",\"Zarya\",\"Ashe\",\"Genji\",\"Hanzo\",\"Pharah\",\"Reaper\",\"Tracer\",\"Genji\",\"Mei\",\"Reaper\",\"Tracer\",\"Echo\",\"Mei\",\"Torbj\\u00f6rn\",\"Tracer\",\"Echo\",\"Genji\",\"Mei\",\"Genji\",\"Mei\",\"Pharah\",\"Soldier: 76\",\"Tracer\",\"Echo\",\"Mei\",\"Tracer\",\"Echo\",\"Hanzo\",\"Mei\",\"Echo\",\"Mei\",\"Torbj\\u00f6rn\",\"Tracer\"],\"xaxis\":\"x\",\"y\":[115.78430463682614,108.56009552101196,100.75840929928503,103.99888354266932,105.77218567005697,103.69294094796541,91.47269061041094,111.33106955019312,104.30777775551897,92.29173524583835,93.46213764623042,92.27238306171762,104.2514049540148,104.29109108905023,97.61673501172241,103.7567138492558,87.75265669978491,148.52271084046828,100.6021748278641,103.49824692016989,110.25412946831304,88.93142370499096,106.08204186975411,99.19791080189958,99.89216230460391,103.98069875905315,101.13929798340492,99.73443988132864,114.28155586374774,96.12773975781387,99.47183692003296,100.64166652152497,98.78143078794518,98.54981811316372,108.21508087278775,104.10335637167493,102.97962815928076,109.37943417649875,94.47013369749564,110.35817404267296,99.92701359207706,101.17606649708203,102.59772749436472,97.12022694422116,93.66359414765921,76.78199399087006,100.87475471075493,97.89921588953177,124.79797871810727,104.59853901336912,97.39915583889407,92.10122988022862,105.38894787667212,97.41259903013749],\"yaxis\":\"y\",\"type\":\"bar\"},{\"alignmentgroup\":\"True\",\"hovertemplate\":\"color=Regular Season<br>hero=%{x}<br>Stat=%{y}<extra></extra>\",\"legendgroup\":\"Regular Season\",\"marker\":{\"color\":\"#EF553B\",\"pattern\":{\"shape\":\"\"}},\"name\":\"Regular Season\",\"offsetgroup\":\"Regular Season\",\"orientation\":\"v\",\"showlegend\":true,\"textposition\":\"auto\",\"x\":[\"Genji\",\"Junkrat\",\"Pharah\",\"Reaper\",\"Tracer\",\"Genji\",\"Junkrat\",\"McCree\",\"Soldier: 76\",\"Tracer\",\"Zarya\",\"Genji\",\"Junkrat\",\"McCree\",\"Roadhog\",\"Sombra\",\"Tracer\",\"Zarya\",\"Brigitte\",\"Genji\",\"Hanzo\",\"Junkrat\",\"Pharah\",\"Tracer\",\"Zarya\",\"Brigitte\",\"Pharah\",\"Tracer\",\"Zarya\",\"Hanzo\",\"Pharah\",\"Sombra\",\"Zarya\",\"Hanzo\",\"Sombra\",\"Zarya\",\"Doomfist\",\"Genji\",\"Hanzo\",\"Mei\",\"Reaper\",\"Tracer\",\"Ashe\",\"Genji\",\"Hanzo\",\"Pharah\",\"Tracer\",\"Ashe\",\"Echo\",\"Genji\",\"McCree\",\"Mei\",\"Pharah\",\"Reaper\",\"Sombra\",\"Torbj\\u00f6rn\",\"Tracer\",\"Widowmaker\",\"Zarya\",\"Genji\",\"Hanzo\",\"Mei\",\"Pharah\",\"Soldier: 76\",\"Torbj\\u00f6rn\",\"Tracer\",\"Echo\",\"McCree\",\"Mei\",\"Reaper\",\"Soldier: 76\",\"Echo\",\"Genji\",\"Mei\",\"Pharah\",\"Tracer\",\"Echo\",\"McCree\",\"Mei\",\"Tracer\"],\"xaxis\":\"x\",\"y\":[104.54118999486688,106.54955952801708,85.9473915331783,107.61900798138228,110.08244282124461,97.27992975985568,100.65165433677532,125.27892520183067,106.30319501400164,106.88908746667582,111.1904356751541,106.54168434675924,101.98370937776828,93.60447054644996,104.19679120895444,97.4777659889392,101.98448994643195,94.7167396280096,103.21687598470693,93.9958086700787,95.19024085119449,100.24920253843982,103.03171181282491,96.1131383242403,85.67296164188869,102.513554925631,108.31123178587552,99.92243268138024,102.12580040130322,111.33566017043503,103.65257892894687,106.0904196681525,109.31790333985144,103.16209107593082,98.14608749103458,102.35754297388767,89.83816960904682,96.15167585795749,104.75826784914474,99.06078067952575,103.8770546541946,101.87839808760812,106.80126691661351,110.3327999202248,99.81160859034118,103.27276341172994,100.16969732809098,100.03686120446444,92.43670578814537,97.13257890603646,81.98358288214516,100.53898819306451,111.50113507392848,106.87162621661632,95.54457609293284,98.2075911590478,99.74773544658996,89.60265436678782,93.57409144611988,112.05361660975696,86.83052034651384,80.18542223696645,91.0301967961744,100.05588997740938,99.23388918616664,98.90502440103201,107.46306599540313,113.11111846701817,112.24580081200222,98.42041742386168,111.27550137635114,111.189085476726,101.10241342834684,109.01704637395326,103.94416122534804,103.11321161090252,115.81497095473306,102.8783863866236,102.19017020926155,94.76038499604424],\"yaxis\":\"y\",\"type\":\"bar\"}],                        {\"template\":{\"data\":{\"histogram2dcontour\":[{\"type\":\"histogram2dcontour\",\"colorbar\":{\"outlinewidth\":0,\"ticks\":\"\"},\"colorscale\":[[0.0,\"#0d0887\"],[0.1111111111111111,\"#46039f\"],[0.2222222222222222,\"#7201a8\"],[0.3333333333333333,\"#9c179e\"],[0.4444444444444444,\"#bd3786\"],[0.5555555555555556,\"#d8576b\"],[0.6666666666666666,\"#ed7953\"],[0.7777777777777778,\"#fb9f3a\"],[0.8888888888888888,\"#fdca26\"],[1.0,\"#f0f921\"]]}],\"choropleth\":[{\"type\":\"choropleth\",\"colorbar\":{\"outlinewidth\":0,\"ticks\":\"\"}}],\"histogram2d\":[{\"type\":\"histogram2d\",\"colorbar\":{\"outlinewidth\":0,\"ticks\":\"\"},\"colorscale\":[[0.0,\"#0d0887\"],[0.1111111111111111,\"#46039f\"],[0.2222222222222222,\"#7201a8\"],[0.3333333333333333,\"#9c179e\"],[0.4444444444444444,\"#bd3786\"],[0.5555555555555556,\"#d8576b\"],[0.6666666666666666,\"#ed7953\"],[0.7777777777777778,\"#fb9f3a\"],[0.8888888888888888,\"#fdca26\"],[1.0,\"#f0f921\"]]}],\"heatmap\":[{\"type\":\"heatmap\",\"colorbar\":{\"outlinewidth\":0,\"ticks\":\"\"},\"colorscale\":[[0.0,\"#0d0887\"],[0.1111111111111111,\"#46039f\"],[0.2222222222222222,\"#7201a8\"],[0.3333333333333333,\"#9c179e\"],[0.4444444444444444,\"#bd3786\"],[0.5555555555555556,\"#d8576b\"],[0.6666666666666666,\"#ed7953\"],[0.7777777777777778,\"#fb9f3a\"],[0.8888888888888888,\"#fdca26\"],[1.0,\"#f0f921\"]]}],\"heatmapgl\":[{\"type\":\"heatmapgl\",\"colorbar\":{\"outlinewidth\":0,\"ticks\":\"\"},\"colorscale\":[[0.0,\"#0d0887\"],[0.1111111111111111,\"#46039f\"],[0.2222222222222222,\"#7201a8\"],[0.3333333333333333,\"#9c179e\"],[0.4444444444444444,\"#bd3786\"],[0.5555555555555556,\"#d8576b\"],[0.6666666666666666,\"#ed7953\"],[0.7777777777777778,\"#fb9f3a\"],[0.8888888888888888,\"#fdca26\"],[1.0,\"#f0f921\"]]}],\"contourcarpet\":[{\"type\":\"contourcarpet\",\"colorbar\":{\"outlinewidth\":0,\"ticks\":\"\"}}],\"contour\":[{\"type\":\"contour\",\"colorbar\":{\"outlinewidth\":0,\"ticks\":\"\"},\"colorscale\":[[0.0,\"#0d0887\"],[0.1111111111111111,\"#46039f\"],[0.2222222222222222,\"#7201a8\"],[0.3333333333333333,\"#9c179e\"],[0.4444444444444444,\"#bd3786\"],[0.5555555555555556,\"#d8576b\"],[0.6666666666666666,\"#ed7953\"],[0.7777777777777778,\"#fb9f3a\"],[0.8888888888888888,\"#fdca26\"],[1.0,\"#f0f921\"]]}],\"surface\":[{\"type\":\"surface\",\"colorbar\":{\"outlinewidth\":0,\"ticks\":\"\"},\"colorscale\":[[0.0,\"#0d0887\"],[0.1111111111111111,\"#46039f\"],[0.2222222222222222,\"#7201a8\"],[0.3333333333333333,\"#9c179e\"],[0.4444444444444444,\"#bd3786\"],[0.5555555555555556,\"#d8576b\"],[0.6666666666666666,\"#ed7953\"],[0.7777777777777778,\"#fb9f3a\"],[0.8888888888888888,\"#fdca26\"],[1.0,\"#f0f921\"]]}],\"mesh3d\":[{\"type\":\"mesh3d\",\"colorbar\":{\"outlinewidth\":0,\"ticks\":\"\"}}],\"scatter\":[{\"fillpattern\":{\"fillmode\":\"overlay\",\"size\":10,\"solidity\":0.2},\"type\":\"scatter\"}],\"parcoords\":[{\"type\":\"parcoords\",\"line\":{\"colorbar\":{\"outlinewidth\":0,\"ticks\":\"\"}}}],\"scatterpolargl\":[{\"type\":\"scatterpolargl\",\"marker\":{\"colorbar\":{\"outlinewidth\":0,\"ticks\":\"\"}}}],\"bar\":[{\"error_x\":{\"color\":\"#2a3f5f\"},\"error_y\":{\"color\":\"#2a3f5f\"},\"marker\":{\"line\":{\"color\":\"#E5ECF6\",\"width\":0.5},\"pattern\":{\"fillmode\":\"overlay\",\"size\":10,\"solidity\":0.2}},\"type\":\"bar\"}],\"scattergeo\":[{\"type\":\"scattergeo\",\"marker\":{\"colorbar\":{\"outlinewidth\":0,\"ticks\":\"\"}}}],\"scatterpolar\":[{\"type\":\"scatterpolar\",\"marker\":{\"colorbar\":{\"outlinewidth\":0,\"ticks\":\"\"}}}],\"histogram\":[{\"marker\":{\"pattern\":{\"fillmode\":\"overlay\",\"size\":10,\"solidity\":0.2}},\"type\":\"histogram\"}],\"scattergl\":[{\"type\":\"scattergl\",\"marker\":{\"colorbar\":{\"outlinewidth\":0,\"ticks\":\"\"}}}],\"scatter3d\":[{\"type\":\"scatter3d\",\"line\":{\"colorbar\":{\"outlinewidth\":0,\"ticks\":\"\"}},\"marker\":{\"colorbar\":{\"outlinewidth\":0,\"ticks\":\"\"}}}],\"scattermapbox\":[{\"type\":\"scattermapbox\",\"marker\":{\"colorbar\":{\"outlinewidth\":0,\"ticks\":\"\"}}}],\"scatterternary\":[{\"type\":\"scatterternary\",\"marker\":{\"colorbar\":{\"outlinewidth\":0,\"ticks\":\"\"}}}],\"scattercarpet\":[{\"type\":\"scattercarpet\",\"marker\":{\"colorbar\":{\"outlinewidth\":0,\"ticks\":\"\"}}}],\"carpet\":[{\"aaxis\":{\"endlinecolor\":\"#2a3f5f\",\"gridcolor\":\"white\",\"linecolor\":\"white\",\"minorgridcolor\":\"white\",\"startlinecolor\":\"#2a3f5f\"},\"baxis\":{\"endlinecolor\":\"#2a3f5f\",\"gridcolor\":\"white\",\"linecolor\":\"white\",\"minorgridcolor\":\"white\",\"startlinecolor\":\"#2a3f5f\"},\"type\":\"carpet\"}],\"table\":[{\"cells\":{\"fill\":{\"color\":\"#EBF0F8\"},\"line\":{\"color\":\"white\"}},\"header\":{\"fill\":{\"color\":\"#C8D4E3\"},\"line\":{\"color\":\"white\"}},\"type\":\"table\"}],\"barpolar\":[{\"marker\":{\"line\":{\"color\":\"#E5ECF6\",\"width\":0.5},\"pattern\":{\"fillmode\":\"overlay\",\"size\":10,\"solidity\":0.2}},\"type\":\"barpolar\"}],\"pie\":[{\"automargin\":true,\"type\":\"pie\"}]},\"layout\":{\"autotypenumbers\":\"strict\",\"colorway\":[\"#636efa\",\"#EF553B\",\"#00cc96\",\"#ab63fa\",\"#FFA15A\",\"#19d3f3\",\"#FF6692\",\"#B6E880\",\"#FF97FF\",\"#FECB52\"],\"font\":{\"color\":\"#2a3f5f\"},\"hovermode\":\"closest\",\"hoverlabel\":{\"align\":\"left\"},\"paper_bgcolor\":\"white\",\"plot_bgcolor\":\"#E5ECF6\",\"polar\":{\"bgcolor\":\"#E5ECF6\",\"angularaxis\":{\"gridcolor\":\"white\",\"linecolor\":\"white\",\"ticks\":\"\"},\"radialaxis\":{\"gridcolor\":\"white\",\"linecolor\":\"white\",\"ticks\":\"\"}},\"ternary\":{\"bgcolor\":\"#E5ECF6\",\"aaxis\":{\"gridcolor\":\"white\",\"linecolor\":\"white\",\"ticks\":\"\"},\"baxis\":{\"gridcolor\":\"white\",\"linecolor\":\"white\",\"ticks\":\"\"},\"caxis\":{\"gridcolor\":\"white\",\"linecolor\":\"white\",\"ticks\":\"\"}},\"coloraxis\":{\"colorbar\":{\"outlinewidth\":0,\"ticks\":\"\"}},\"colorscale\":{\"sequential\":[[0.0,\"#0d0887\"],[0.1111111111111111,\"#46039f\"],[0.2222222222222222,\"#7201a8\"],[0.3333333333333333,\"#9c179e\"],[0.4444444444444444,\"#bd3786\"],[0.5555555555555556,\"#d8576b\"],[0.6666666666666666,\"#ed7953\"],[0.7777777777777778,\"#fb9f3a\"],[0.8888888888888888,\"#fdca26\"],[1.0,\"#f0f921\"]],\"sequentialminus\":[[0.0,\"#0d0887\"],[0.1111111111111111,\"#46039f\"],[0.2222222222222222,\"#7201a8\"],[0.3333333333333333,\"#9c179e\"],[0.4444444444444444,\"#bd3786\"],[0.5555555555555556,\"#d8576b\"],[0.6666666666666666,\"#ed7953\"],[0.7777777777777778,\"#fb9f3a\"],[0.8888888888888888,\"#fdca26\"],[1.0,\"#f0f921\"]],\"diverging\":[[0,\"#8e0152\"],[0.1,\"#c51b7d\"],[0.2,\"#de77ae\"],[0.3,\"#f1b6da\"],[0.4,\"#fde0ef\"],[0.5,\"#f7f7f7\"],[0.6,\"#e6f5d0\"],[0.7,\"#b8e186\"],[0.8,\"#7fbc41\"],[0.9,\"#4d9221\"],[1,\"#276419\"]]},\"xaxis\":{\"gridcolor\":\"white\",\"linecolor\":\"white\",\"ticks\":\"\",\"title\":{\"standoff\":15},\"zerolinecolor\":\"white\",\"automargin\":true,\"zerolinewidth\":2},\"yaxis\":{\"gridcolor\":\"white\",\"linecolor\":\"white\",\"ticks\":\"\",\"title\":{\"standoff\":15},\"zerolinecolor\":\"white\",\"automargin\":true,\"zerolinewidth\":2},\"scene\":{\"xaxis\":{\"backgroundcolor\":\"#E5ECF6\",\"gridcolor\":\"white\",\"linecolor\":\"white\",\"showbackground\":true,\"ticks\":\"\",\"zerolinecolor\":\"white\",\"gridwidth\":2},\"yaxis\":{\"backgroundcolor\":\"#E5ECF6\",\"gridcolor\":\"white\",\"linecolor\":\"white\",\"showbackground\":true,\"ticks\":\"\",\"zerolinecolor\":\"white\",\"gridwidth\":2},\"zaxis\":{\"backgroundcolor\":\"#E5ECF6\",\"gridcolor\":\"white\",\"linecolor\":\"white\",\"showbackground\":true,\"ticks\":\"\",\"zerolinecolor\":\"white\",\"gridwidth\":2}},\"shapedefaults\":{\"line\":{\"color\":\"#2a3f5f\"}},\"annotationdefaults\":{\"arrowcolor\":\"#2a3f5f\",\"arrowhead\":0,\"arrowwidth\":1},\"geo\":{\"bgcolor\":\"white\",\"landcolor\":\"#E5ECF6\",\"subunitcolor\":\"white\",\"showland\":true,\"showlakes\":true,\"lakecolor\":\"white\"},\"title\":{\"x\":0.05},\"mapbox\":{\"style\":\"light\"}}},\"xaxis\":{\"anchor\":\"y\",\"domain\":[0.0,1.0],\"title\":{\"text\":\"hero\"}},\"yaxis\":{\"anchor\":\"x\",\"domain\":[0.0,1.0],\"title\":{\"text\":\"Stat\"}},\"legend\":{\"title\":{\"text\":\"color\"},\"tracegroupgap\":0},\"margin\":{\"t\":60},\"barmode\":\"group\"},                        {\"responsive\": true}                    ).then(function(){\n",
       "                            \n",
       "var gd = document.getElementById('43efa390-74da-4683-90fd-84e96a52e6d8');\n",
       "var x = new MutationObserver(function (mutations, observer) {{\n",
       "        var display = window.getComputedStyle(gd).display;\n",
       "        if (!display || display === 'none') {{\n",
       "            console.log([gd, 'removed!']);\n",
       "            Plotly.purge(gd);\n",
       "            observer.disconnect();\n",
       "        }}\n",
       "}});\n",
       "\n",
       "// Listen for the removal of the full notebook cells\n",
       "var notebookContainer = gd.closest('#notebook-container');\n",
       "if (notebookContainer) {{\n",
       "    x.observe(notebookContainer, {childList: true});\n",
       "}}\n",
       "\n",
       "// Listen for the clearing of the current output cell\n",
       "var outputEl = gd.closest('.output');\n",
       "if (outputEl) {{\n",
       "    x.observe(outputEl, {childList: true});\n",
       "}}\n",
       "\n",
       "                        })                };                });            </script>        </div>"
      ]
     },
     "metadata": {},
     "output_type": "display_data"
    }
   ],
   "source": [
    "import plotly.express as px\n",
    "#.groupby('match_id')['Stat'].mean().reset_index()\n",
    "\n",
    "profit = stat_df\n",
    "profit = profit[profit['player'] == 'Profit']\n",
    "profit = profit.groupby(['stage', 'hero'])['Stat'].mean().reset_index()\n",
    "color=np.array(['Regular Season']*profit.Stat.shape[0])\n",
    "for i in playoffs:\n",
    "    color[profit.stage==i] = 'Playoffs'\n",
    "\n",
    "fig = px.bar(profit, x=profit.hero, y=profit.Stat, color=color, barmode='group')\n",
    "fig.show()"
   ]
  },
  {
   "cell_type": "code",
   "execution_count": 5,
   "id": "9b34a549-0873-4077-9767-fdc618efdac4",
   "metadata": {
    "tags": []
   },
   "outputs": [
    {
     "data": {
      "text/html": [
       "\n",
       "        <iframe\n",
       "            width=\"100%\"\n",
       "            height=\"650\"\n",
       "            src=\"http://127.0.0.1:8050/\"\n",
       "            frameborder=\"0\"\n",
       "            allowfullscreen\n",
       "            \n",
       "        ></iframe>\n",
       "        "
      ],
      "text/plain": [
       "<IPython.lib.display.IFrame at 0x1786b8762c0>"
      ]
     },
     "metadata": {},
     "output_type": "display_data"
    }
   ],
   "source": [
    "from dash import Dash, dcc, html, Input, Output\n",
    "import plotly.express as px\n",
    "\n",
    "app = Dash(__name__)\n",
    "cur = pd.DataFrame()\n",
    "\n",
    "app.layout = html.Div([\n",
    "    html.H4('Average Stat by Player, Hero, and Stage'),\n",
    "    dcc.Dropdown(\n",
    "        id=\"dropdown\",\n",
    "        options=stat_df.player.unique(),\n",
    "        clearable=False,\n",
    "    ),\n",
    "    dcc.Dropdown(\n",
    "        id=\"dropdown2\",\n",
    "        clearable=False,\n",
    "    ),\n",
    "    dcc.Graph(id=\"graph\"),\n",
    "])\n",
    "\n",
    "\n",
    "@app.callback(\n",
    "    Output(\"dropdown2\", \"options\"),\n",
    "    Input(\"dropdown\", \"value\"))\n",
    "\n",
    "def set_hero_options(player):\n",
    "    cur = stat_df[stat_df['player'] == player]\n",
    "    vals = ['All']\n",
    "    vals.extend(cur.hero.unique())\n",
    "    return vals\n",
    "\n",
    "@app.callback(\n",
    "    Output(\"dropdown2\", \"value\"),\n",
    "    Input(\"dropdown2\", \"options\"))\n",
    "\n",
    "def set_hero_value(heroes):\n",
    "    return 'All'\n",
    "\n",
    "\n",
    "@app.callback(\n",
    "    Output(\"graph\", \"figure\"),\n",
    "    Input(\"dropdown\", \"value\"),\n",
    "    Input(\"dropdown2\", \"value\"))\n",
    "\n",
    "\n",
    "def update_bar_chart(player, hero):\n",
    "    cur = stat_df[stat_df['player'] == player]\n",
    "    if hero != 'All':\n",
    "        cur = cur[cur['hero'] == hero] \n",
    "    cur = cur.groupby(['stage'])['Stat'].mean().reset_index()\n",
    "    fig = px.bar(cur, x=\"stage\", y=\"Stat\", barmode='group')\n",
    "    return fig\n",
    "\n",
    "\n",
    "app.run_server(debug=True)"
   ]
  },
  {
   "cell_type": "code",
   "execution_count": null,
   "id": "4fd3c07b-bb0c-4409-bd6b-be48db06a607",
   "metadata": {},
   "outputs": [],
   "source": []
  }
 ],
 "metadata": {
  "kernelspec": {
   "display_name": "Python 3 (ipykernel)",
   "language": "python",
   "name": "python3"
  },
  "language_info": {
   "codemirror_mode": {
    "name": "ipython",
    "version": 3
   },
   "file_extension": ".py",
   "mimetype": "text/x-python",
   "name": "python",
   "nbconvert_exporter": "python",
   "pygments_lexer": "ipython3",
   "version": "3.10.11"
  }
 },
 "nbformat": 4,
 "nbformat_minor": 5
}
